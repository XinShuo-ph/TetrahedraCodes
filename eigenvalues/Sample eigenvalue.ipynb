{
 "cells": [
  {
   "cell_type": "code",
   "execution_count": 264,
   "id": "75aa748b",
   "metadata": {},
   "outputs": [],
   "source": [
    "import numpy as np\n",
    "from scipy.special import erf\n",
    "from scipy.special import erfc\n",
    "from math import sqrt,exp\n",
    "from scipy.integrate import quad\n",
    "import matplotlib.pylab as plt\n",
    "import random\n",
    "\n",
    "\n",
    "# %% Probability distributions of eigenvalues\n",
    "def p_lambda1(lambda1,sigma):\n",
    "    los = lambda1/sigma\n",
    "    ret = sqrt(5)/(12*np.pi*sigma)*(20*los*exp(-9/2*los**2)-\\\n",
    "        sqrt(2*np.pi)*exp(-5/2*los**2)*(1-20*los**2)*(erf(sqrt(2)*los)+1)+\\\n",
    "        3*sqrt(3*np.pi)*exp(-15/4*los**2)*(erf(sqrt(3)/2*los)+1))\n",
    "    return ret\n",
    "p_lambda1_vec = np.vectorize(p_lambda1)\n",
    "\n",
    "def p_lambda2(lambda2,sigma):\n",
    "    los = lambda2/sigma\n",
    "    ret = sqrt(15)/(2*sqrt(np.pi)*sigma)*exp(-15/4*los**2)\n",
    "    return ret\n",
    "p_lambda2_vec = np.vectorize(p_lambda2)\n",
    "\n",
    "def p_lambda3(lambda3,sigma):\n",
    "    los = lambda3/sigma\n",
    "    ret = -sqrt(5)/(12*np.pi*sigma)*(20*los*exp(-9/2*los**2)+\\\n",
    "        sqrt(2*np.pi)*exp(-5/2*los**2)*(1-20*los**2)*(erfc(sqrt(2)*los))-\\\n",
    "        3*sqrt(3*np.pi)*exp(-15/4*los**2)*(erfc(sqrt(3)/2*los)))\n",
    "    return ret\n",
    "p_lambda3_vec = np.vectorize(p_lambda3)\n",
    "\n",
    "def p_lambda123(lambda1,lambda2,lambda3,sigma):\n",
    "    I1 = lambda1+lambda2+lambda3\n",
    "    I2 = lambda1*lambda2+lambda2*lambda3+lambda3*lambda1\n",
    "    ret = 3375.0/(8*sqrt(5)*np.pi*sigma**6)*\\\n",
    "        exp(-3*I1**2/sigma**2+15*I2/2/sigma**2)*\\\n",
    "        (lambda2-lambda1)*(lambda3-lambda2)*(lambda3-lambda1)\n",
    "    return ret\n",
    "\n",
    "def p_lambda3_l3c_delta(lambda3, l3c, delta, sigma):\n",
    "    dif = delta-3*l3c\n",
    "    ret = (-3/4*np.sqrt(10/np.pi)/sigma)*dif*np.exp(-5*dif**2/8/sigma**2)+0.5*(erf(dif*np.sqrt(10)/(4*sigma))+erf(dif*np.sqrt(10)/(2*sigma)))*np.heavyside(dif)\n",
    "    return ret\n",
    "\n",
    "def p_rho(rho,sigma):\n",
    "    def bt(n,s):\n",
    "        output= s * sqrt(5) *( 0.5 + np.cos( np.pi*2.0*(n-1)/3.0   + np.arccos( 54/rho/s**3 -1.0 )/3.0 ) )\n",
    "        return output\n",
    "    def myintegrand(s):\n",
    "        output = (9* sqrt(5**3) )/(4*np.pi* rho**2 * sigma**4)* exp(-((s-3.0)**2.0) /( 2 * sigma**2 )) *( 1+ exp(- 6*s/sigma**2 ) ) * (\n",
    "            exp( -bt(1,s)**2/( 2 * sigma**2 ) )+exp(-bt(2,s)**2/( 2 * sigma**2 ))-exp(-bt(3,s)**2/( 2 * sigma**2 )))\n",
    "        return output\n",
    "    solution = quad(myintegrand,3/np.cbrt(rho),np.inf)\n",
    "    return solution\n",
    "p_rho_vec = np.vectorize(p_rho)\n",
    "\n",
    "def samplelambda(sigma):\n",
    "    #sample lambda1,2,3 so that they follow distribution of p_lambda123\n",
    "    pdfmax=2.4/sigma**3 # approximate maximum of p_lambda123\n",
    "    lambda1min=-2*sigma\n",
    "    lambda1max=2*sigma\n",
    "    lambda2min=-2.5*sigma\n",
    "    lambda2max=1.5*sigma\n",
    "    lambda3min=-1.5*sigma\n",
    "    lambda3max=2.5*sigma\n",
    "    while True: # try until a sample is accepted\n",
    "        l1=random.uniform(lambda1min,lambda1max)\n",
    "        l2=random.uniform(lambda2min,lambda2max)\n",
    "        l3=random.uniform(lambda3min,lambda3max)\n",
    "        y=random.uniform(0,pdfmax)\n",
    "        #print([l1,l2,l3,y,p_lambda123(l1,l2,l3,sigma)])\n",
    "        if y<p_lambda123(l1,l2,l3,sigma) and (l1<l2) and (l2<l3):\n",
    "            return np.array([l1,l2,l3,y])"
   ]
  },
  {
   "cell_type": "code",
   "execution_count": 244,
   "id": "92a03504",
   "metadata": {},
   "outputs": [],
   "source": [
    "mysigma=1"
   ]
  },
  {
   "cell_type": "code",
   "execution_count": 245,
   "id": "3c25cef5",
   "metadata": {},
   "outputs": [],
   "source": [
    "lambda_range=np.arange(-3*mysigma,3*mysigma,0.05*mysigma)"
   ]
  },
  {
   "cell_type": "code",
   "execution_count": 247,
   "id": "534bc9b2",
   "metadata": {},
   "outputs": [],
   "source": [
    "rho_range_lin=np.arange( 0.1,50, 0.1 )\n",
    "rho_range_log=np.power(10.0,np.arange( -2,5, 0.02 ))"
   ]
  },
  {
   "cell_type": "code",
   "execution_count": 132,
   "id": "53e45024",
   "metadata": {},
   "outputs": [
    {
     "name": "stdout",
     "output_type": "stream",
     "text": [
      "0\n",
      "4000\n",
      "8000\n",
      "12000\n",
      "16000\n",
      "20000\n",
      "24000\n",
      "28000\n",
      "32000\n",
      "36000\n",
      "40000\n",
      "44000\n",
      "48000\n",
      "52000\n",
      "56000\n",
      "60000\n",
      "64000\n",
      "68000\n",
      "72000\n",
      "76000\n",
      "80000\n",
      "84000\n",
      "88000\n",
      "92000\n",
      "96000\n",
      "100000\n",
      "104000\n",
      "108000\n",
      "112000\n",
      "116000\n",
      "120000\n",
      "124000\n",
      "128000\n",
      "132000\n",
      "136000\n",
      "140000\n",
      "144000\n",
      "148000\n",
      "152000\n",
      "156000\n",
      "160000\n",
      "164000\n",
      "168000\n",
      "172000\n",
      "176000\n",
      "180000\n",
      "184000\n",
      "188000\n",
      "192000\n",
      "196000\n",
      "200000\n",
      "204000\n",
      "208000\n",
      "212000\n",
      "216000\n",
      "220000\n",
      "224000\n",
      "228000\n",
      "232000\n",
      "236000\n",
      "240000\n",
      "244000\n",
      "248000\n",
      "252000\n",
      "256000\n",
      "260000\n",
      "264000\n",
      "268000\n",
      "272000\n",
      "276000\n",
      "280000\n",
      "284000\n",
      "288000\n",
      "292000\n",
      "296000\n",
      "300000\n",
      "304000\n",
      "308000\n",
      "312000\n",
      "316000\n",
      "320000\n",
      "324000\n",
      "328000\n",
      "332000\n",
      "336000\n",
      "340000\n",
      "344000\n",
      "348000\n",
      "352000\n",
      "356000\n",
      "360000\n",
      "364000\n",
      "368000\n",
      "372000\n",
      "376000\n",
      "380000\n",
      "384000\n",
      "388000\n",
      "392000\n",
      "396000\n",
      "400000\n",
      "404000\n",
      "408000\n",
      "412000\n",
      "416000\n",
      "420000\n",
      "424000\n",
      "428000\n",
      "432000\n",
      "436000\n",
      "440000\n",
      "444000\n",
      "448000\n",
      "452000\n",
      "456000\n",
      "460000\n",
      "464000\n",
      "468000\n",
      "472000\n",
      "476000\n",
      "480000\n",
      "484000\n",
      "488000\n",
      "492000\n",
      "496000\n",
      "500000\n",
      "504000\n",
      "508000\n",
      "512000\n",
      "516000\n",
      "520000\n",
      "524000\n",
      "528000\n",
      "532000\n",
      "536000\n",
      "540000\n",
      "544000\n",
      "548000\n",
      "552000\n",
      "556000\n",
      "560000\n",
      "564000\n",
      "568000\n",
      "572000\n",
      "576000\n",
      "580000\n",
      "584000\n",
      "588000\n",
      "592000\n",
      "596000\n",
      "600000\n",
      "604000\n",
      "608000\n",
      "612000\n",
      "616000\n",
      "620000\n",
      "624000\n",
      "628000\n",
      "632000\n",
      "636000\n",
      "640000\n",
      "644000\n",
      "648000\n",
      "652000\n",
      "656000\n"
     ]
    }
   ],
   "source": [
    "sampleset=[]\n",
    "for i in range(660000):\n",
    "    if i%4000==0:\n",
    "        print(i)\n",
    "    sampleset.append(samplelambda(mysigma))"
   ]
  },
  {
   "cell_type": "code",
   "execution_count": 133,
   "id": "5cf8bfd6",
   "metadata": {},
   "outputs": [],
   "source": [
    "sampleset=np.array(sampleset)"
   ]
  },
  {
   "cell_type": "code",
   "execution_count": 134,
   "id": "47bedb5d",
   "metadata": {},
   "outputs": [],
   "source": [
    "sampleset=sampleset.transpose()"
   ]
  },
  {
   "cell_type": "code",
   "execution_count": 277,
   "id": "eba88c5e",
   "metadata": {},
   "outputs": [
    {
     "data": {
      "text/plain": [
       "<matplotlib.legend.Legend at 0x241987c9970>"
      ]
     },
     "execution_count": 277,
     "metadata": {},
     "output_type": "execute_result"
    },
    {
     "data": {
      "image/png": "[encoded data removed]",
      "text/plain": [
       "<Figure size 432x288 with 1 Axes>"
      ]
     },
     "metadata": {
      "needs_background": "light"
     },
     "output_type": "display_data"
    }
   ],
   "source": [
    "tmp1=np.histogram(sampleset[0],bins=np.arange(-3*mysigma,3*mysigma,0.02),density=True)\n",
    "tmp2=np.histogram(sampleset[1],bins=np.arange(-3*mysigma,3*mysigma,0.02),density=True)\n",
    "tmp3=np.histogram(sampleset[2],bins=np.arange(-3*mysigma,3*mysigma,0.02),density=True)\n",
    "lambdaxaxis=(tmp1[1][0:-1]+tmp1[1][1:len(tmp1[1])])/2\n",
    "\n",
    "plt.plot(lambdaxaxis,tmp1[0],label='$\\\\lambda_1$ sample')\n",
    "plt.plot(lambdaxaxis,tmp2[0],label='$\\\\lambda_2$ sample')\n",
    "plt.plot(lambdaxaxis,tmp3[0],label='$\\\\lambda_3$ sample')\n",
    "\n",
    "plt.plot(lambda_range,p_lambda3_vec(lambda_range,mysigma),'b:',label='$\\\\lambda_1$ theory')\n",
    "plt.plot(lambda_range,p_lambda2_vec(lambda_range,mysigma),'r:',label='$\\\\lambda_2$ theory')\n",
    "plt.plot(lambda_range,p_lambda1_vec(lambda_range,mysigma),'g:',label='$\\\\lambda_3$ theory')\n",
    "\n",
    "plt.legend(fontsize=12)"
   ]
  },
  {
   "cell_type": "code",
   "execution_count": 287,
   "id": "6fed0fbb",
   "metadata": {},
   "outputs": [],
   "source": [
    "rhos=np.abs(1/((1+sampleset[0])*(1+sampleset[1])*(1+sampleset[2])))"
   ]
  },
  {
   "cell_type": "code",
   "execution_count": 285,
   "id": "81ad7682",
   "metadata": {},
   "outputs": [
    {
     "data": {
      "text/plain": [
       "Text(0, 0.5, '$P(\\\\rho)$')"
      ]
     },
     "execution_count": 285,
     "metadata": {},
     "output_type": "execute_result"
    },
    {
     "data": {
      "image/png": "[encoded data removed]",
      "text/plain": [
       "<Figure size 432x288 with 1 Axes>"
      ]
     },
     "metadata": {
      "needs_background": "light"
     },
     "output_type": "display_data"
    }
   ],
   "source": [
    "# pdf\n",
    "\n",
    "dm,rhobins=np.histogram(rhos,bins=np.arange( 0.1,50, 0.01 ),density=True)\n",
    "rhoxaxis=rhobins[0:dm.shape[0]]\n",
    "\n",
    "plt.plot(rhoxaxis,dm,label='$\\\\frac{1}{|(1+\\\\lambda_1)(1+\\\\lambda_2)(1+\\\\lambda_3)|}$ sampled')\n",
    "plt.loglog(rhoxaxis,p_rho_vec(rhoxaxis,mysigma)[0],':',label='$P(\\\\rho)$ theory')\n",
    "plt.legend(fontsize=12)\n",
    "plt.xlabel('$\\\\rho/\\\\bar \\\\rho $',fontsize=16)\n",
    "plt.ylabel('$P(\\\\rho)$',fontsize=16)\n"
   ]
  },
  {
   "cell_type": "code",
   "execution_count": 284,
   "id": "fa1ce0c3",
   "metadata": {},
   "outputs": [
    {
     "data": {
      "text/plain": [
       "0.8873008806868145"
      ]
     },
     "execution_count": 284,
     "metadata": {},
     "output_type": "execute_result"
    }
   ],
   "source": [
    "# the p_rho is not correctly normalized to 1 so that in this plot theory and sample are slightly shifted\n",
    "rhoxaxis=np.power(10.0,np.arange( -5,5, 0.01 ))\n",
    "np.trapz(p_rho_vec(rhoxaxis,mysigma)[0],x=rhoxaxis)"
   ]
  },
  {
   "cell_type": "code",
   "execution_count": 286,
   "id": "a83ba58a",
   "metadata": {},
   "outputs": [
    {
     "data": {
      "text/plain": [
       "Text(0, 0.5, '$ dM/ d\\\\log \\\\rho $')"
      ]
     },
     "execution_count": 286,
     "metadata": {},
     "output_type": "execute_result"
    },
    {
     "data": {
      "image/png": "[encoded data removed]",
      "text/plain": [
       "<Figure size 432x288 with 1 Axes>"
      ]
     },
     "metadata": {
      "needs_background": "light"
     },
     "output_type": "display_data"
    }
   ],
   "source": [
    "dm,rhobins=np.histogram(rhos,bins=np.power(10.0,np.arange( -2,5, 0.01 )))\n",
    "dlogrho=(np.log10(rhobins)[1]-np.log10(rhobins)[0]) # note that it's log10 \n",
    "rhoxaxis=rhobins[0:dm.shape[0]]\n",
    "\n",
    "plt.loglog(rhoxaxis,dm/dlogrho/len(rhos),'b',label='$\\\\frac{1}{|(1+\\\\lambda_1)(1+\\\\lambda_2)(1+\\\\lambda_3)|}$ sampled') \n",
    "plt.loglog(rhoxaxis,rhoxaxis*p_rho_vec(rhoxaxis,mysigma)[0]*np.log(10),'r:',label='$ \\\\rho P(\\\\rho) ln 10 $ theory')\n",
    "plt.ylim(1e-6,5)\n",
    "plt.legend(fontsize=14)\n",
    "plt.xlabel('$\\\\rho/\\\\bar {\\\\rho}$',fontsize=16)\n",
    "plt.ylabel('$ dM/ d\\\\log \\\\rho $',fontsize=16)"
   ]
  },
  {
   "cell_type": "code",
   "execution_count": null,
   "id": "4dd4072f",
   "metadata": {},
   "outputs": [],
   "source": []
  }
 ],
 "metadata": {
  "kernelspec": {
   "display_name": "Python 3",
   "language": "python",
   "name": "python3"
  },
  "language_info": {
   "codemirror_mode": {
    "name": "ipython",
    "version": 3
   },
   "file_extension": ".py",
   "mimetype": "text/x-python",
   "name": "python",
   "nbconvert_exporter": "python",
   "pygments_lexer": "ipython3",
   "version": "3.8.8"
  }
 },
 "nbformat": 4,
 "nbformat_minor": 5
}
