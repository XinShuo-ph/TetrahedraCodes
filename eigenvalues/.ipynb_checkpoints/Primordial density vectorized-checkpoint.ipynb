{
 "cells": [
  {
   "cell_type": "code",
   "execution_count": 1,
   "id": "b1dbcc4c",
   "metadata": {},
   "outputs": [],
   "source": [
    "import numpy as np\n",
    "import h5py\n",
    "import matplotlib.pyplot as plt"
   ]
  },
  {
   "cell_type": "code",
   "execution_count": 8,
   "id": "433235ed",
   "metadata": {},
   "outputs": [],
   "source": [
    "level=7\n",
    "fileidx=63\n",
    "\n",
    "f=h5py.File('GadgetOutputs\\level%d\\snapshot_%03d.hdf5'%(level,fileidx),'r')\n",
    "Loc=np.array(f['PartType1']['Coordinates'])\n",
    "ParticleIDs=np.array(f['PartType1']['ParticleIDs'])\n",
    "currentz=dict(f['Header'].attrs)['Redshift']\n",
    "Ndim=int(np.cbrt(dict(f['Header'].attrs)['NumPart_Total'][1]))\n",
    "celllen=dict(f['Header'].attrs)['BoxSize']/Ndim # length of cell"
   ]
  },
  {
   "cell_type": "code",
   "execution_count": 9,
   "id": "0de2be82",
   "metadata": {},
   "outputs": [],
   "source": [
    "# Lagrangian grid points\n",
    "x = celllen*(0.5+np.arange(Ndim))\n",
    "xg = np.meshgrid(x,x,x, indexing='ij')\n",
    "xl = np.ravel(xg[0])\n",
    "yl = np.ravel(xg[1])\n",
    "zl = np.ravel(xg[2])\n",
    "gridPoints=np.vstack([xl,yl,zl]).transpose()\n",
    "\n",
    "\n",
    "#sort the particles according to ID\n",
    "Loc_sorted=np.copy(Loc)\n",
    "Loc_sorted[ParticleIDs]=Loc\n",
    "\n",
    "#take care of the periodic boundary\n",
    "delta=Loc_sorted - gridPoints\n",
    "Loc_shifted=np.copy(Loc_sorted)\n",
    "for dim in range(3):\n",
    "    too_small = delta[:,dim] < -20.0\n",
    "    too_big = delta[:,dim] > 20.0\n",
    "    Loc_shifted[too_big,dim] -= 40.0\n",
    "    Loc_shifted[too_small,dim] += 40.0\n",
    "    \n",
    "# reshape the particles into a mesh\n",
    "grid3d=np.stack(xg,axis=3)\n",
    "Loc3d=Loc_shifted.reshape(Ndim,Ndim,Ndim,3) "
   ]
  },
  {
   "cell_type": "code",
   "execution_count": 10,
   "id": "3740da0e",
   "metadata": {},
   "outputs": [],
   "source": [
    "def get_tet_volumes(Ndim,p3d):\n",
    "    \"\"\"A fast function to compute the volumes of all tetrahedra\"\"\"\n",
    "    vert = np.array(( (0,0,0), (0,0,1), (0,1,0), (0,1,1), (1,0,0), (1,0,1), (1,1,0), (1,1,1) ))\n",
    "    conn = np.array( ( (1,0,2,4), (3,1,2,4), (3,5,1,4), (3,6,5,4), (3,2,6,4), (3,7,5,6) ))\n",
    "    Ntetpp = len(conn)\n",
    "    Np = Ndim*Ndim*Ndim\n",
    "    vol = np.zeros((Ndim,Ndim,Ndim, Ntetpp))\n",
    "    for m in range(Ntetpp):   # 6 tets\n",
    "        off = vert[conn[m]]\n",
    "        b =  ( p3d[off[1][0]:(Ndim+off[1][0]),off[1][1]:(Ndim+off[1][1]),off[1][2]:(Ndim+off[1][2]), :] \\\n",
    "            - p3d[off[3][0]:(Ndim+off[3][0]),off[3][1]:(Ndim+off[3][1]),off[3][2]:(Ndim+off[3][2]), :] ).reshape((Np,3))\n",
    "        c =  ( p3d[off[2][0]:(Ndim+off[2][0]),off[2][1]:(Ndim+off[2][1]),off[2][2]:(Ndim+off[2][2]), :] \\\n",
    "            - p3d[off[3][0]:(Ndim+off[3][0]),off[3][1]:(Ndim+off[3][1]),off[3][2]:(Ndim+off[3][2]), :] ).reshape((Np,3))\n",
    "        b = np.cross(b,c)\n",
    "        a =  ( p3d[off[0][0]:(Ndim+off[0][0]),off[0][1]:(Ndim+off[0][1]),off[0][2]:(Ndim+off[0][2]), :] \\\n",
    "            - p3d[off[3][0]:(Ndim+off[3][0]),off[3][1]:(Ndim+off[3][1]),off[3][2]:(Ndim+off[3][2]), :] ).reshape((Np,3))        \n",
    "        vol[:,:,:,m] = (-np.sum(a*b,axis=1)/6.).reshape((Ndim,Ndim,Ndim))\n",
    "    return vol\n",
    "\n",
    "def get_tet_centroids(Ndim,p3d):\n",
    "    \"\"\" A fast function to compute the centroids of all tetrahedra \"\"\"\n",
    "    vert = np.array(( (0,0,0), (0,0,1), (0,1,0), (0,1,1), (1,0,0), (1,0,1), (1,1,0), (1,1,1) ))\n",
    "    conn = np.array( ( (1,0,2,4), (3,1,2,4), (3,5,1,4), (3,6,5,4), (3,2,6,4), (3,7,5,6) ))\n",
    "    Ntetpp = len(conn)\n",
    "    Np = Ndim*Ndim*Ndim\n",
    "    cen = np.zeros((Np*Ntetpp,3))\n",
    "    for m in range(Ntetpp):   # 6 tets\n",
    "        off = vert[conn[m]]\n",
    "        orig = p3d[off[3][0]:(Ndim+off[3][0]),off[3][1]:(Ndim+off[3][1]),off[3][2]:(Ndim+off[3][2]), :]\n",
    "        b =  ( p3d[off[1][0]:(Ndim+off[1][0]),off[1][1]:(Ndim+off[1][1]),off[1][2]:(Ndim+off[1][2]), :] \\\n",
    "            - orig ).reshape((Np,3))\n",
    "        c =  ( p3d[off[2][0]:(Ndim+off[2][0]),off[2][1]:(Ndim+off[2][1]),off[2][2]:(Ndim+off[2][2]), :] \\\n",
    "            - orig ).reshape((Np,3))\n",
    "        a =  ( p3d[off[0][0]:(Ndim+off[0][0]),off[0][1]:(Ndim+off[0][1]),off[0][2]:(Ndim+off[0][2]), :] \\\n",
    "            - orig).reshape((Np,3))   \n",
    "        cen[m::Ntetpp,:] = orig.reshape(Np,3) + ((a+b+c)/4.)\n",
    "    return cen\n"
   ]
  },
  {
   "cell_type": "code",
   "execution_count": 11,
   "id": "8a6fbc69",
   "metadata": {},
   "outputs": [],
   "source": [
    "vol = get_tet_volumes(Ndim-1,Loc3d)\n",
    "cen = get_tet_centroids(Ndim-1,Loc3d)\n",
    "volflat=vol.reshape(((Ndim-1)**3,6))\n",
    "mvol = np.fabs(volflat )/(celllen**3) # every particle in ICs has volume of 1 this way "
   ]
  },
  {
   "cell_type": "code",
   "execution_count": 12,
   "id": "ecad0e0b",
   "metadata": {},
   "outputs": [],
   "source": [
    "vert = np.array(( (0,0,0), (0,0,1), (0,1,0), (0,1,1), (1,0,0), (1,0,1), (1,1,0), (1,1,1) ))\n",
    "conn = np.array( ( (1,0,2,4), (3,1,2,4), (3,5,1,4), (3,6,5,4), (3,2,6,4), (3,7,5,6) ))\n",
    "\n",
    "# now we need to, for a grid point (for simplicity, only in bulk), find the tetrahedra connected to it\n",
    "possib_cell_shift=np.array(( (0,0,0), (0,0,-1), (0,-1,0), (0,-1,-1), (-1,0,0), (-1,0,-1), (-1,-1,0), (-1,-1,-1) ))\n",
    "#to specify a tetrahedron, specify the cell and which of the 6 tetrahedra it is \n",
    "cell_shifts=[]\n",
    "tetra_nos=[]\n",
    "# find all tetrahedra connected to [0,0,0]\n",
    "for shift in possib_cell_shift:\n",
    "    for nn in range(len(conn)):\n",
    "        flag=0\n",
    "        for vertidx in conn[nn]:\n",
    "            if np.prod((shift+vert[vertidx]) == np.zeros(3)):\n",
    "                # when a vertice of that tetrahedra in the shifted cell is the origin\n",
    "                cell_shifts.append(shift)\n",
    "                tetra_nos.append(nn)\n",
    "\n",
    "# collect all bulk points\n",
    "tmp=np.array(range(1,Ndim-1))\n",
    "bulk_mesh = np.meshgrid(tmp,tmp,tmp, indexing='ij')\n",
    "bulk_mesh=np.stack(bulk_mesh,axis=3)\n",
    "bulkPoints = bulk_mesh.reshape((Ndim-2)**3,3)\n",
    "bulkids = bulkPoints[:,0]*(Ndim-1)**2 + bulkPoints[:,1]*(Ndim-1) + bulkPoints[:,2]\n",
    "\n",
    "# sum over all tetrahedra connected to bulk points\n",
    "totV=np.zeros((Ndim-2)**3)\n",
    "for idx in range(len(cell_shifts)): # 24 connected tetrahedra\n",
    "    shift=cell_shifts[idx]\n",
    "    idshift= shift[0]*(Ndim-1)**2 + shift[1]*(Ndim-1) + shift[2]\n",
    "    totV+=mvol[bulkids+idshift,tetra_nos[idx]]\n",
    "\n",
    "# primordial density\n",
    "primDen=4/totV # each grid point is connected to 24 tetrahedra, while each tetrahedra carry 1/6 particle mass"
   ]
  },
  {
   "cell_type": "code",
   "execution_count": 13,
   "id": "c4d0a28c",
   "metadata": {},
   "outputs": [
    {
     "data": {
      "text/plain": [
       "Text(0, 0.5, '$ dM/ d\\\\log \\\\rho $')"
      ]
     },
     "execution_count": 13,
     "metadata": {},
     "output_type": "execute_result"
    },
    {
     "data": {
      "image/png": "[encoded data removed]",
      "text/plain": [
       "<Figure size 432x432 with 1 Axes>"
      ]
     },
     "metadata": {
      "needs_background": "light"
     },
     "output_type": "display_data"
    }
   ],
   "source": [
    "#plot distribution\n",
    "\n",
    "dm,rhobins=np.histogram(primDen,bins=np.power(10.0,np.arange( -2,5, 0.02 )))\n",
    "dlogrho=(np.log(rhobins)[1]-np.log(rhobins)[0]) \n",
    "rhoxaxis=rhobins[0:dm.shape[0]]\n",
    "plt.figure().set_size_inches([6,6])\n",
    "plt.loglog(rhoxaxis,dm/dlogrho/len(primDen)) # /len(primDen) to normalize\n",
    "plt.loglog([10,1000],2*np.power([10,1000],-0.5),label='$\\\\rho^{-0.5}$')\n",
    "plt.legend(fontsize=16)\n",
    "plt.title('primordial',fontsize=16)\n",
    "\n",
    "plt.xlabel('$\\\\rho/\\\\bar {\\\\rho}$',fontsize=16)\n",
    "plt.ylabel('$ dM/ d\\\\log \\\\rho $',fontsize=16)"
   ]
  },
  {
   "cell_type": "code",
   "execution_count": null,
   "id": "91439a89",
   "metadata": {},
   "outputs": [],
   "source": []
  }
 ],
 "metadata": {
  "kernelspec": {
   "display_name": "Python 3",
   "language": "python",
   "name": "python3"
  },
  "language_info": {
   "codemirror_mode": {
    "name": "ipython",
    "version": 3
   },
   "file_extension": ".py",
   "mimetype": "text/x-python",
   "name": "python",
   "nbconvert_exporter": "python",
   "pygments_lexer": "ipython3",
   "version": "3.8.8"
  }
 },
 "nbformat": 4,
 "nbformat_minor": 5
}
