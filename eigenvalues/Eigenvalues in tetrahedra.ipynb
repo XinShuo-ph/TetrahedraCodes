{
 "cells": [
  {
   "cell_type": "code",
   "execution_count": 1,
   "id": "22363fa1",
   "metadata": {},
   "outputs": [],
   "source": [
    "import numpy as np\n",
    "import h5py\n",
    "import matplotlib.pyplot as plt\n",
    "\n",
    "# by observation, the ParticleIDs are assigned in this way\n",
    "def getPid(xid,yid,zid):\n",
    "    return Ndim*Ndim*xid+Ndim*yid+zid"
   ]
  },
  {
   "cell_type": "code",
   "execution_count": 2,
   "id": "cbbc1d6f",
   "metadata": {},
   "outputs": [],
   "source": [
    "fileidx=63\n",
    "f=h5py.File('snapshot_%03d.hdf5'%fileidx,'r')\n",
    "Loc=np.array(list(f['PartType1']['Coordinates']))\n",
    "ParticleIDs=np.array(list(f['PartType1']['ParticleIDs']))\n",
    "currentz=dict(f['Header'].attrs)['Redshift']\n",
    "Ndim=int(np.cbrt(dict(f['Header'].attrs)['NumPart_Total'][1]))\n",
    "celllen=dict(f['Header'].attrs)['BoxSize']/Ndim # length of cell"
   ]
  },
  {
   "cell_type": "code",
   "execution_count": 3,
   "id": "6cc18d22",
   "metadata": {},
   "outputs": [],
   "source": [
    "#type in each particles' initial position on the grid\n",
    "initLoc_manual = np.zeros_like(Loc)\n",
    "for xid in range(Ndim):\n",
    "    for yid in range(Ndim):\n",
    "        for zid in range(Ndim):\n",
    "            currentPid = getPid(xid,yid,zid)\n",
    "            initLoc_manual[currentPid] = [ celllen/2 + xid * celllen, celllen/2 + yid * celllen, celllen/2 + zid * celllen ]\n"
   ]
  },
  {
   "cell_type": "code",
   "execution_count": 4,
   "id": "f6c613eb",
   "metadata": {},
   "outputs": [],
   "source": [
    "# connectivity of all tetrahedra\n",
    "connectivity=[]\n",
    "skip = 1\n",
    "for xid in range(Ndim-skip):\n",
    "    for yid in range(Ndim-skip):\n",
    "        for zid in range(Ndim-skip):\n",
    "            #find particle id of the vertices of this cube\n",
    "            #print(getPid(xid,yid,zid))\n",
    "            cubePids=[\n",
    "                getPid(xid,yid,zid),\n",
    "                getPid(xid+skip,yid,zid),\n",
    "                getPid(xid+skip,yid+skip,zid),\n",
    "                getPid(xid,yid+skip,zid),\n",
    "                getPid(xid,yid,zid+skip),\n",
    "                getPid(xid+skip,yid,zid+skip),\n",
    "                getPid(xid+skip,yid+skip,zid+skip),\n",
    "                getPid(xid,yid+skip,zid+skip)\n",
    "            ]\n",
    "            # connectivity list in each cell, refer to MNRAS 427, 61–76, first paragraph of Sec. 2.3\n",
    "            connectivity.append( [ cubePids[4], cubePids[0], cubePids[3], cubePids[1] ] )\n",
    "            connectivity.append( [ cubePids[7], cubePids[4], cubePids[3], cubePids[1] ] )\n",
    "            connectivity.append( [ cubePids[7], cubePids[5], cubePids[4], cubePids[1] ] )\n",
    "            connectivity.append( [ cubePids[7], cubePids[2], cubePids[5], cubePids[1] ] )\n",
    "            connectivity.append( [ cubePids[7], cubePids[3], cubePids[2], cubePids[1] ] )\n",
    "            connectivity.append( [ cubePids[7], cubePids[6], cubePids[5], cubePids[2] ] )\n",
    "connectivity=np.array(connectivity)"
   ]
  },
  {
   "cell_type": "code",
   "execution_count": 5,
   "id": "fcb33355",
   "metadata": {},
   "outputs": [],
   "source": [
    "#a simple way to sort the particles according to ID\n",
    "Loc_sorted=np.copy(Loc)\n",
    "Loc_sorted[ParticleIDs]=Loc\n",
    "\n",
    "#take care of the periodic boundary\n",
    "delta=Loc_sorted-initLoc_manual\n",
    "Loc_shifted=np.copy(Loc_sorted)\n",
    "for dim in range(3):\n",
    "    too_small = delta[:,dim] < -20.0\n",
    "    too_big = delta[:,dim] > 20.0\n",
    "    Loc_shifted[too_big,dim] -= 40.0\n",
    "    Loc_shifted[too_small,dim] += 40.0\n",
    "\n",
    "#displacement field Phi\n",
    "Phi = Loc_shifted - initLoc_manual"
   ]
  },
  {
   "cell_type": "code",
   "execution_count": 6,
   "id": "5efcfba3",
   "metadata": {},
   "outputs": [],
   "source": [
    "# compute the gradient of displacement fields in each tetrahedron\n",
    "dPhidq=[]\n",
    "for currentTetra in connectivity:\n",
    "\n",
    "    P = np.zeros((4,3))\n",
    "    P[0]=initLoc_manual[currentTetra[0]]\n",
    "    P[1]=initLoc_manual[currentTetra[1]]\n",
    "    P[2]=initLoc_manual[currentTetra[2]]\n",
    "    P[3]=initLoc_manual[currentTetra[3]]\n",
    "\n",
    "    myPhi = np.zeros((4,3))\n",
    "    myPhi[0]=Phi[currentTetra[0]]\n",
    "    myPhi[1]=Phi[currentTetra[1]]\n",
    "    myPhi[2]=Phi[currentTetra[2]]\n",
    "    myPhi[3]=Phi[currentTetra[3]]\n",
    "    # take the center as the reference point where we compute the gradient\n",
    "    center=(P[0]+P[1]+P[2]+P[3])/4\n",
    "    centerPhi=(myPhi[0]+myPhi[1]+myPhi[2]+myPhi[3])/4\n",
    "    # dq from center to P[1],P[2],P[3]\n",
    "    dq = np.zeros((3,3))\n",
    "    for i in [1,2,3]:\n",
    "        for k in [1,2,3]:\n",
    "            dq[i-1,k-1] = P[k][i-1] - center[i-1]\n",
    "    # dPhi from center to P[1],P[2],P[3]\n",
    "    deltaPhi = np.zeros((3,3))\n",
    "    for j in [1,2,3]:\n",
    "        for k in [1,2,3]:\n",
    "            deltaPhi [j-1,k-1] = myPhi[k][j-1] - centerPhi [j-1]\n",
    "    # solve the gradient\n",
    "    mydPhidq = np.dot (deltaPhi,np.linalg.inv(dq)  )\n",
    "    dPhidq.append(mydPhidq)"
   ]
  },
  {
   "cell_type": "code",
   "execution_count": 7,
   "id": "8b3874e7",
   "metadata": {},
   "outputs": [],
   "source": [
    "#get eigenvalues\n",
    "eigenvalues, eigenvectors = np.linalg.eig(dPhidq)\n",
    "Re_eigenvalues = np.real(eigenvalues)\n",
    "Re_eigenvalues.sort(axis=1) # sort so that lamdba1<lambda2<lambda2"
   ]
  },
  {
   "cell_type": "code",
   "execution_count": 8,
   "id": "cabb831c",
   "metadata": {},
   "outputs": [],
   "source": [
    "#get distribution\n",
    "bin_range=5*np.std(Re_eigenvalues)\n",
    "bin_disp=bin_range/50\n",
    "tmp1=np.histogram(Re_eigenvalues[:,0],bins = np.arange(-bin_range,bin_range,bin_disp))\n",
    "tmp2=np.histogram(Re_eigenvalues[:,1],bins = np.arange(-bin_range,bin_range,bin_disp))\n",
    "tmp3=np.histogram(Re_eigenvalues[:,2],bins = np.arange(-bin_range,bin_range,bin_disp))\n",
    "\n",
    "lambda_range=(tmp1[1][0:-1]+tmp1[1][1:len(tmp1[1])])/2\n",
    "lambda1dist=tmp1[0]/np.trapz(tmp1[0],lambda_range) # normalized\n",
    "lambda2dist=tmp2[0]/np.trapz(tmp2[0],lambda_range)\n",
    "lambda3dist=tmp3[0]/np.trapz(tmp3[0],lambda_range) "
   ]
  },
  {
   "cell_type": "code",
   "execution_count": 9,
   "id": "692910da",
   "metadata": {},
   "outputs": [
    {
     "data": {
      "text/plain": [
       "Text(0.5, 1.0, 'z= 0.000000')"
      ]
     },
     "execution_count": 9,
     "metadata": {},
     "output_type": "execute_result"
    },
    {
     "data": {
      "image/png": "[encoded data removed]",
      "text/plain": [
       "<Figure size 432x288 with 1 Axes>"
      ]
     },
     "metadata": {
      "needs_background": "light"
     },
     "output_type": "display_data"
    }
   ],
   "source": [
    "plt.plot(lambda_range,lambda1dist,label='$\\\\lambda_1$')\n",
    "plt.plot(lambda_range,lambda2dist,label='$\\\\lambda_2$')\n",
    "plt.plot(lambda_range,lambda3dist,label='$\\\\lambda_3$')\n",
    "plt.legend(fontsize=16)\n",
    "plt.title(\"z= %f\"%currentz,fontsize=16)"
   ]
  },
  {
   "cell_type": "code",
   "execution_count": null,
   "id": "045c5c7e",
   "metadata": {},
   "outputs": [],
   "source": []
  }
 ],
 "metadata": {
  "kernelspec": {
   "display_name": "Python 3",
   "language": "python",
   "name": "python3"
  },
  "language_info": {
   "codemirror_mode": {
    "name": "ipython",
    "version": 3
   },
   "file_extension": ".py",
   "mimetype": "text/x-python",
   "name": "python",
   "nbconvert_exporter": "python",
   "pygments_lexer": "ipython3",
   "version": "3.8.8"
  }
 },
 "nbformat": 4,
 "nbformat_minor": 5
}
