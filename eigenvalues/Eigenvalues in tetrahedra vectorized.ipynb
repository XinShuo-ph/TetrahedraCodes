{
 "cells": [
  {
   "cell_type": "code",
   "execution_count": 1,
   "id": "6f14261e",
   "metadata": {},
   "outputs": [],
   "source": [
    "import numpy as np\n",
    "import h5py\n",
    "import matplotlib.pyplot as plt\n"
   ]
  },
  {
   "cell_type": "code",
   "execution_count": 2,
   "id": "79f8622c",
   "metadata": {},
   "outputs": [],
   "source": [
    "level=7\n",
    "fileidx=63\n",
    "\n",
    "f=h5py.File('GadgetOutputs\\level%d\\snapshot_%03d.hdf5'%(level,fileidx),'r')\n",
    "Loc=np.array(f['PartType1']['Coordinates'])\n",
    "ParticleIDs=np.array(f['PartType1']['ParticleIDs'])\n",
    "currentz=dict(f['Header'].attrs)['Redshift']\n",
    "Ndim=int(np.cbrt(dict(f['Header'].attrs)['NumPart_Total'][1]))\n",
    "celllen=dict(f['Header'].attrs)['BoxSize']/Ndim # length of a cell"
   ]
  },
  {
   "cell_type": "code",
   "execution_count": 3,
   "id": "783f3e8a",
   "metadata": {},
   "outputs": [],
   "source": [
    "# Lagrangian grid points\n",
    "x = celllen*(0.5+np.arange(Ndim))\n",
    "xg = np.meshgrid(x,x,x, indexing='ij')\n",
    "xl = np.ravel(xg[0])\n",
    "yl = np.ravel(xg[1])\n",
    "zl = np.ravel(xg[2])\n",
    "gridPoints=np.vstack([xl,yl,zl]).transpose()\n",
    "\n",
    "\n",
    "#sort the particles according to ID\n",
    "Loc_sorted=np.copy(Loc)\n",
    "Loc_sorted[ParticleIDs]=Loc\n",
    "\n",
    "#take care of the periodic boundary\n",
    "delta=Loc_sorted - gridPoints\n",
    "Loc_shifted=np.copy(Loc_sorted)\n",
    "for dim in range(3):\n",
    "    too_small = delta[:,dim] < -20.0\n",
    "    too_big = delta[:,dim] > 20.0\n",
    "    Loc_shifted[too_big,dim] -= 40.0\n",
    "    Loc_shifted[too_small,dim] += 40.0\n",
    "\n",
    "#displacement field Phi\n",
    "Phi = Loc_shifted - gridPoints\n",
    "\n",
    "#reshape into a 3d mesh so as to refer xid,yid,zid more easily\n",
    "grid3d=np.stack(xg,axis=3)\n",
    "Phi3d=np.reshape(Phi,(Ndim,Ndim,Ndim,3))"
   ]
  },
  {
   "cell_type": "code",
   "execution_count": 4,
   "id": "cb292d86",
   "metadata": {},
   "outputs": [],
   "source": [
    "def get_tet_eigenvalues(Ndim,grid3d,Phi3d):\n",
    "    ''' estimate eigenvalues of dPhi/dq at tetrahedra centers, by displacement fields on 4 vertices. \n",
    "        grid3d: particle's Lagrangian grid coordinates, of shape (Ndim+1,Ndim+1,Nim+1,3)\n",
    "        Phi3d: displacment field, of shape (Ndim+1,Ndim+1,Nim+1,3)\n",
    "        return eigenvalues: 3 eigenvalues of dPhi/dq at tetrahedra centers, of shape (Np*Ntetpp,3)  '''\n",
    "    \n",
    "    vert = np.array(( (0,0,0), (0,0,1), (0,1,0), (0,1,1), (1,0,0), (1,0,1), (1,1,0), (1,1,1) ))\n",
    "    conn = np.array( ( (1,0,2,4), (3,1,2,4), (3,5,1,4), (3,6,5,4), (3,2,6,4), (3,7,5,6) ))\n",
    "    Ntetpp = len(conn)\n",
    "    Np = Ndim*Ndim*Ndim\n",
    "    dPhidq=np.zeros((Np*Ntetpp,3,3))\n",
    "    for m in range(Ntetpp):\n",
    "        off = vert[conn[m]]\n",
    "        P=np.zeros((Np,3,4)) # coordinates of 4 vertices\n",
    "        myPhi=np.zeros((Np,3,4)) # displacement fields on 4 vertices\n",
    "        P[:,:,0]    =np.reshape(grid3d[off[0][0]:(Ndim+off[0][0]),off[0][1]:(Ndim+off[0][1]),off[0][2]:(Ndim+off[0][2]), :],(Np,3))\n",
    "        P[:,:,1]    =np.reshape(grid3d[off[1][0]:(Ndim+off[1][0]),off[1][1]:(Ndim+off[1][1]),off[1][2]:(Ndim+off[1][2]), :],(Np,3))\n",
    "        P[:,:,2]    =np.reshape(grid3d[off[2][0]:(Ndim+off[2][0]),off[2][1]:(Ndim+off[2][1]),off[2][2]:(Ndim+off[2][2]), :],(Np,3))\n",
    "        P[:,:,3]    =np.reshape(grid3d[off[3][0]:(Ndim+off[3][0]),off[3][1]:(Ndim+off[3][1]),off[3][2]:(Ndim+off[3][2]), :],(Np,3))\n",
    "        myPhi[:,:,0]=np.reshape(Phi3d[off[0][0]:(Ndim+off[0][0]),off[0][1]:(Ndim+off[0][1]),off[0][2]:(Ndim+off[0][2]), :] ,(Np,3))\n",
    "        myPhi[:,:,1]=np.reshape(Phi3d[off[1][0]:(Ndim+off[1][0]),off[1][1]:(Ndim+off[1][1]),off[1][2]:(Ndim+off[1][2]), :] ,(Np,3))\n",
    "        myPhi[:,:,2]=np.reshape(Phi3d[off[2][0]:(Ndim+off[2][0]),off[2][1]:(Ndim+off[2][1]),off[2][2]:(Ndim+off[2][2]), :] ,(Np,3))\n",
    "        myPhi[:,:,3]=np.reshape(Phi3d[off[3][0]:(Ndim+off[3][0]),off[3][1]:(Ndim+off[3][1]),off[3][2]:(Ndim+off[3][2]), :] ,(Np,3))\n",
    "        center=(P[:,:,0]+P[:,:,1]+P[:,:,2]+P[:,:,3])/4\n",
    "        centerPhi=(myPhi[:,:,0]+myPhi[:,:,1]+myPhi[:,:,2]+myPhi[:,:,3])/4   \n",
    "        # dq from center to P[1],P[2],P[3]\n",
    "        dq = np.zeros((Np,3,3))\n",
    "        for i in [1,2,3]:\n",
    "            for k in [1,2,3]:\n",
    "                dq[:,i-1,k-1] = P[:,i-1,k] - center[:,i-1]\n",
    "        # dPhi from center to P[1],P[2],P[3]\n",
    "        deltaPhi = np.zeros((Np,3,3))\n",
    "        for j in [1,2,3]:\n",
    "            for k in [1,2,3]:\n",
    "                deltaPhi [:,j-1,k-1] = myPhi[:,j-1,k] - centerPhi [:,j-1]\n",
    "        dPhidq[m::Ntetpp,:,:] = np.matmul (deltaPhi,np.linalg.inv(dq)  )\n",
    "    eigenvalues, eigenvectors = np.linalg.eig(dPhidq)\n",
    "    return eigenvalues"
   ]
  },
  {
   "cell_type": "code",
   "execution_count": 5,
   "id": "58dd2d1c",
   "metadata": {},
   "outputs": [
    {
     "data": {
      "text/plain": [
       "Text(0.5, 1.0, 'z= 0.000000')"
      ]
     },
     "execution_count": 5,
     "metadata": {},
     "output_type": "execute_result"
    },
    {
     "data": {
      "image/png": "[encoded data removed]",
      "text/plain": [
       "<Figure size 432x288 with 1 Axes>"
      ]
     },
     "metadata": {
      "needs_background": "light"
     },
     "output_type": "display_data"
    }
   ],
   "source": [
    "#get eigenvalues\n",
    "eigenvalues = get_tet_eigenvalues(Ndim-1,grid3d,Phi3d)\n",
    "Re_eigenvalues = np.real(eigenvalues)\n",
    "Re_eigenvalues.sort(axis=1) # sort so that lamdba1<lambda2<lambda2\n",
    "\n",
    "#get distribution\n",
    "bin_range=5*np.std(Re_eigenvalues)\n",
    "bin_disp=bin_range/100\n",
    "tmp1=np.histogram(Re_eigenvalues[:,0],bins = np.arange(-bin_range,bin_range,bin_disp))\n",
    "tmp2=np.histogram(Re_eigenvalues[:,1],bins = np.arange(-bin_range,bin_range,bin_disp))\n",
    "tmp3=np.histogram(Re_eigenvalues[:,2],bins = np.arange(-bin_range,bin_range,bin_disp))\n",
    "\n",
    "lambda_range=(tmp1[1][0:-1]+tmp1[1][1:len(tmp1[1])])/2\n",
    "lambda1dist=tmp1[0]/np.trapz(tmp1[0],lambda_range) # normalized\n",
    "lambda2dist=tmp2[0]/np.trapz(tmp2[0],lambda_range)\n",
    "lambda3dist=tmp3[0]/np.trapz(tmp3[0],lambda_range) \n",
    "\n",
    "plt.plot(lambda_range,lambda1dist,label='$\\\\lambda_1$')\n",
    "plt.plot(lambda_range,lambda2dist,label='$\\\\lambda_2$')\n",
    "plt.plot(lambda_range,lambda3dist,label='$\\\\lambda_3$')\n",
    "plt.legend(fontsize=16)\n",
    "plt.title(\"z= %f\"%currentz,fontsize=16)"
   ]
  },
  {
   "cell_type": "code",
   "execution_count": null,
   "id": "1459290b",
   "metadata": {},
   "outputs": [],
   "source": []
  }
 ],
 "metadata": {
  "kernelspec": {
   "display_name": "Python 3",
   "language": "python",
   "name": "python3"
  },
  "language_info": {
   "codemirror_mode": {
    "name": "ipython",
    "version": 3
   },
   "file_extension": ".py",
   "mimetype": "text/x-python",
   "name": "python",
   "nbconvert_exporter": "python",
   "pygments_lexer": "ipython3",
   "version": "3.8.8"
  }
 },
 "nbformat": 4,
 "nbformat_minor": 5
}
