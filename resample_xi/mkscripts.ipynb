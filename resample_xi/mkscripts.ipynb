{
 "cells": [
  {
   "cell_type": "code",
   "execution_count": 1,
   "metadata": {
    "collapsed": true
   },
   "outputs": [],
   "source": [
    "import numpy as np"
   ]
  },
  {
   "cell_type": "markdown",
   "metadata": {},
   "source": [
    "# 1. do pair counting for the late time snapshots"
   ]
  },
  {
   "cell_type": "code",
   "execution_count": 52,
   "metadata": {},
   "outputs": [
    {
     "name": "stdout",
     "output_type": "stream",
     "text": [
      "#!/bin/bash \n",
      "#SBATCH --job-name=FiducialZAPairCounting_tet1_sim0_snap4 \n",
      "#SBATCH --time=72:00:00 \n",
      "#SBATCH --ntasks=2 \n",
      "#SBATCH --cpus-per-task=32 \n",
      "#SBATCH --mem=250G \n",
      "#SBATCH -p hns,kipac \n",
      "#SBATCH --output=FiducialZAPairCountingJobs/FiducialZAPairCounting_tet1_sim0_snap4.out \n",
      "#SBATCH --error=FiducialZAPairCountingJobs/FiducialZAPairCounting_tet1_sim0_snap4.err \n",
      "\n",
      "\n",
      "module load openmpi\n",
      "module load gsl\n",
      "module load openblas\n",
      "\n",
      "python3 FiducialZAPairCounting.py 1 0 4 > FiducialZAPairCountingJobs/FiducialZAPairCounting_tet1_sim0_snap4.out\n"
     ]
    }
   ],
   "source": [
    "basename = 'FiducialZAPairCounting'\n",
    "scriptdir = basename + 'Jobs/'\n",
    "\n",
    "# try an example script\n",
    "\n",
    "mytetsize= 1\n",
    "simno = 0\n",
    "snapno  = 4\n",
    "\n",
    "hours = 72\n",
    "GBs = 250\n",
    "\n",
    "jobname=basename + \"_tet%d_sim%d_snap%d\"%(mytetsize,simno,snapno)\n",
    "jobtime=\"%02d:00:00\"%hours\n",
    "jobmem =\"%dG\"%GBs\n",
    "jobout =scriptdir+basename + \"_tet%d_sim%d_snap%d.out\"%(mytetsize,simno,snapno)\n",
    "joberr =scriptdir+basename + \"_tet%d_sim%d_snap%d.err\"%(mytetsize,simno,snapno)\n",
    "module = \"\\nmodule load openmpi\\nmodule load gsl\\nmodule load openblas\\n\\n\"\n",
    "jobcmd =module+ \"python3 \"+basename+\".py %d %d %d\"%(mytetsize,simno,snapno)\n",
    "jobcmd = jobcmd + \" > \" + jobout\n",
    "myscript=\"#!/bin/bash \\n#SBATCH --job-name=\" + jobname + \" \\n#SBATCH --time=\" + jobtime + \" \\n#SBATCH --ntasks=2 \\n#SBATCH --cpus-per-task=32 \\n#SBATCH --mem=\" + jobmem + \" \\n#SBATCH -p hns,kipac \\n#SBATCH --output=\" + jobout + \" \\n#SBATCH --error=\" + joberr + \" \\n\\n\" + jobcmd\n",
    "\n",
    "print(myscript)"
   ]
  },
  {
   "cell_type": "code",
   "execution_count": 53,
   "metadata": {
    "collapsed": true
   },
   "outputs": [],
   "source": [
    "\n",
    "for simno in  range(500):\n",
    "    for snapno in range(5):\n",
    "        scriptname = scriptdir + basename + \"Job_tet%d_sim%d_snap%d.sh\"%(mytetsize,simno,snapno)\n",
    "        \n",
    "        jobname=basename + \"_tet%d_sim%d_snap%d\"%(mytetsize,simno,snapno)\n",
    "        jobtime=\"%02d:00:00\"%hours\n",
    "        jobmem =\"%dG\"%GBs\n",
    "        jobout =scriptdir+basename + \"_tet%d_sim%d_snap%d.out\"%(mytetsize,simno,snapno)\n",
    "        joberr =scriptdir+basename + \"_tet%d_sim%d_snap%d.err\"%(mytetsize,simno,snapno)\n",
    "        module = \"\\nmodule load openmpi\\nmodule load gsl\\nmodule load openblas\\n\\n\"\n",
    "        jobcmd =module+ \"python3 \"+basename+\".py %d %d %d\"%(mytetsize,simno,snapno)\n",
    "        jobcmd = jobcmd + \" > \" + jobout\n",
    "        myscript=\"#!/bin/bash \\n#SBATCH --job-name=\" + jobname + \" \\n#SBATCH --time=\" + jobtime + \" \\n#SBATCH --ntasks=2 \\n#SBATCH --cpus-per-task=32 \\n#SBATCH --mem=\" + jobmem + \" \\n#SBATCH -p hns,kipac \\n#SBATCH --output=\" + jobout + \" \\n#SBATCH --error=\" + joberr + \" \\n\\n\" + jobcmd\n",
    "        with open(scriptname,\"w\") as text_file:\n",
    "            text_file.write(myscript)"
   ]
  },
  {
   "cell_type": "code",
   "execution_count": 55,
   "metadata": {
    "collapsed": true
   },
   "outputs": [],
   "source": [
    "# submit the jobs I want to compute later\n",
    "simno_range = [0]\n",
    "snap_range = [4]\n",
    "\n",
    "with open(\"submit\"+basename+\".sh\",\"w\") as text_file:\n",
    "    for simno in simno_range:\n",
    "        for snapno in snap_range:\n",
    "            scriptname = scriptdir + basename + \"Job_tet%d_sim%d_snap%d.sh\"%(mytetsize,simno,snapno)\n",
    "            text_file.write(\"sbatch \"+scriptname +\"\\n\")"
   ]
  },
  {
   "cell_type": "markdown",
   "metadata": {},
   "source": [
    "# 1. do pair counting also for ZA particles"
   ]
  },
  {
   "cell_type": "code",
   "execution_count": 56,
   "metadata": {},
   "outputs": [
    {
     "name": "stdout",
     "output_type": "stream",
     "text": [
      "#!/bin/bash \n",
      "#SBATCH --job-name=FiducialZAPairCounting_ZApts_tet1_sim0_snap4 \n",
      "#SBATCH --time=72:00:00 \n",
      "#SBATCH --ntasks=2 \n",
      "#SBATCH --cpus-per-task=32 \n",
      "#SBATCH --mem=250G \n",
      "#SBATCH -p hns,kipac \n",
      "#SBATCH --output=FiducialZAPairCounting_ZAptsJobs/FiducialZAPairCounting_ZApts_tet1_sim0_snap4.out \n",
      "#SBATCH --error=FiducialZAPairCounting_ZAptsJobs/FiducialZAPairCounting_ZApts_tet1_sim0_snap4.err \n",
      "\n",
      "\n",
      "module load openmpi\n",
      "module load gsl\n",
      "module load openblas\n",
      "\n",
      "python3 FiducialZAPairCounting_ZApts.py 1 0 4 > FiducialZAPairCounting_ZAptsJobs/FiducialZAPairCounting_ZApts_tet1_sim0_snap4.out\n"
     ]
    }
   ],
   "source": [
    "basename = 'FiducialZAPairCounting_ZApts'\n",
    "scriptdir = basename + 'Jobs/'\n",
    "\n",
    "# try an example script\n",
    "\n",
    "mytetsize= 1\n",
    "simno = 0\n",
    "snapno  = 4\n",
    "\n",
    "hours = 72\n",
    "GBs = 250\n",
    "\n",
    "jobname=basename + \"_tet%d_sim%d_snap%d\"%(mytetsize,simno,snapno)\n",
    "jobtime=\"%02d:00:00\"%hours\n",
    "jobmem =\"%dG\"%GBs\n",
    "jobout =scriptdir+basename + \"_tet%d_sim%d_snap%d.out\"%(mytetsize,simno,snapno)\n",
    "joberr =scriptdir+basename + \"_tet%d_sim%d_snap%d.err\"%(mytetsize,simno,snapno)\n",
    "module = \"\\nmodule load openmpi\\nmodule load gsl\\nmodule load openblas\\n\\n\"\n",
    "jobcmd =module+ \"python3 \"+basename+\".py %d %d %d\"%(mytetsize,simno,snapno)\n",
    "jobcmd = jobcmd + \" > \" + jobout\n",
    "myscript=\"#!/bin/bash \\n#SBATCH --job-name=\" + jobname + \" \\n#SBATCH --time=\" + jobtime + \" \\n#SBATCH --ntasks=2 \\n#SBATCH --cpus-per-task=32 \\n#SBATCH --mem=\" + jobmem + \" \\n#SBATCH -p hns,kipac \\n#SBATCH --output=\" + jobout + \" \\n#SBATCH --error=\" + joberr + \" \\n\\n\" + jobcmd\n",
    "\n",
    "print(myscript)"
   ]
  },
  {
   "cell_type": "code",
   "execution_count": 57,
   "metadata": {
    "collapsed": true
   },
   "outputs": [],
   "source": [
    "\n",
    "for simno in  range(500):\n",
    "    for snapno in range(5):\n",
    "        scriptname = scriptdir + basename + \"Job_tet%d_sim%d_snap%d.sh\"%(mytetsize,simno,snapno)\n",
    "        \n",
    "        jobname=basename + \"_tet%d_sim%d_snap%d\"%(mytetsize,simno,snapno)\n",
    "        jobtime=\"%02d:00:00\"%hours\n",
    "        jobmem =\"%dG\"%GBs\n",
    "        jobout =scriptdir+basename + \"_tet%d_sim%d_snap%d.out\"%(mytetsize,simno,snapno)\n",
    "        joberr =scriptdir+basename + \"_tet%d_sim%d_snap%d.err\"%(mytetsize,simno,snapno)\n",
    "        module = \"\\nmodule load openmpi\\nmodule load gsl\\nmodule load openblas\\n\\n\"\n",
    "        jobcmd =module+ \"python3 \"+basename+\".py %d %d %d\"%(mytetsize,simno,snapno)\n",
    "        jobcmd = jobcmd + \" > \" + jobout\n",
    "        myscript=\"#!/bin/bash \\n#SBATCH --job-name=\" + jobname + \" \\n#SBATCH --time=\" + jobtime + \" \\n#SBATCH --ntasks=2 \\n#SBATCH --cpus-per-task=32 \\n#SBATCH --mem=\" + jobmem + \" \\n#SBATCH -p hns,kipac \\n#SBATCH --output=\" + jobout + \" \\n#SBATCH --error=\" + joberr + \" \\n\\n\" + jobcmd\n",
    "        with open(scriptname,\"w\") as text_file:\n",
    "            text_file.write(myscript)"
   ]
  },
  {
   "cell_type": "code",
   "execution_count": 58,
   "metadata": {
    "collapsed": true
   },
   "outputs": [],
   "source": [
    "# submit the jobs I want to compute later\n",
    "simno_range = [0]\n",
    "snap_range = [4]\n",
    "\n",
    "with open(\"submit\"+basename+\".sh\",\"w\") as text_file:\n",
    "    for simno in simno_range:\n",
    "        for snapno in snap_range:\n",
    "            scriptname = scriptdir + basename + \"Job_tet%d_sim%d_snap%d.sh\"%(mytetsize,simno,snapno)\n",
    "            text_file.write(\"sbatch \"+scriptname +\"\\n\")"
   ]
  },
  {
   "cell_type": "markdown",
   "metadata": {},
   "source": [
    "# 2. for tetsize=4, resample with tetrahedra centers"
   ]
  },
  {
   "cell_type": "code",
   "execution_count": 32,
   "metadata": {},
   "outputs": [
    {
     "name": "stdout",
     "output_type": "stream",
     "text": [
      "#!/bin/bash \n",
      "#SBATCH --job-name=xiCenSample_tet4_sim0_snap4_000 \n",
      "#SBATCH --time=30:00:00 \n",
      "#SBATCH --ntasks=2 \n",
      "#SBATCH --cpus-per-task=32 \n",
      "#SBATCH --mem=250G \n",
      "#SBATCH -p hns,kipac \n",
      "#SBATCH --output=xiCenSampleJobs/xiCenSample_tet4_sim0_snap4_000.out \n",
      "#SBATCH --error=xiCenSampleJobs/xiCenSample_tet4_sim0_snap4_000.err \n",
      "\n",
      "\n",
      "module load openmpi\n",
      "module load gsl\n",
      "module load openblas\n",
      "\n",
      "python3 xiCenSample.py 4 0 4 0 0 0 > xiCenSampleJobs/xiCenSample_tet4_sim0_snap4_000.out\n"
     ]
    }
   ],
   "source": [
    "basename = 'xiCenSample'\n",
    "scriptdir = basename + 'Jobs/'\n",
    "\n",
    "# try an example script\n",
    "\n",
    "mytetsize= 4\n",
    "simno = 0\n",
    "snapno  = 4\n",
    "xshift, yshift, zshift = 0,0,0\n",
    "\n",
    "hours = 30\n",
    "GBs = 250\n",
    "\n",
    "jobname=basename + \"_tet%d_sim%d_snap%d_%d%d%d\"%(mytetsize,simno,snapno,xshift,yshift,zshift)\n",
    "jobtime=\"%02d:00:00\"%hours\n",
    "jobmem =\"%dG\"%GBs\n",
    "jobout =scriptdir+basename + \"_tet%d_sim%d_snap%d_%d%d%d.out\"%(mytetsize,simno,snapno,xshift,yshift,zshift)\n",
    "joberr =scriptdir+basename + \"_tet%d_sim%d_snap%d_%d%d%d.err\"%(mytetsize,simno,snapno,xshift,yshift,zshift)\n",
    "module = \"\\nmodule load openmpi\\nmodule load gsl\\nmodule load openblas\\n\\n\"\n",
    "jobcmd =module+ \"python3 \"+basename+\".py %d %d %d %d %d %d\"%(mytetsize,simno,snapno,xshift,yshift,zshift)\n",
    "jobcmd = jobcmd + \" > \" + jobout\n",
    "myscript=\"#!/bin/bash \\n#SBATCH --job-name=\" + jobname + \" \\n#SBATCH --time=\" + jobtime + \" \\n#SBATCH --ntasks=2 \\n#SBATCH --cpus-per-task=32 \\n#SBATCH --mem=\" + jobmem + \" \\n#SBATCH -p hns,kipac \\n#SBATCH --output=\" + jobout + \" \\n#SBATCH --error=\" + joberr + \" \\n\\n\" + jobcmd\n",
    "\n",
    "print(myscript)"
   ]
  },
  {
   "cell_type": "code",
   "execution_count": 33,
   "metadata": {
    "collapsed": true
   },
   "outputs": [],
   "source": [
    "basename = 'xiCenSample'\n",
    "scriptdir = basename + 'Jobs/'\n",
    "mytetsize= 4\n",
    "simno = 0\n",
    "snapno  = 4\n",
    "xshift, yshift, zshift = 0,0,0\n",
    "\n",
    "for xshift in  range(mytetsize):\n",
    "    for yshift in  range(mytetsize):\n",
    "        for zshift in  range(mytetsize):\n",
    "            for snapno in range(5):\n",
    "                scriptname = scriptdir + basename + \"Job_tet%d_sim%d_snap%d_%d%d%d.sh\"%(mytetsize,simno,snapno,xshift,yshift,zshift)\n",
    "                jobname=basename + \"_tet%d_sim%d_snap%d_%d%d%d\"%(mytetsize,simno,snapno,xshift,yshift,zshift)\n",
    "                jobtime=\"%02d:00:00\"%hours\n",
    "                jobmem =\"%dG\"%GBs\n",
    "                jobout =scriptdir+basename + \"_tet%d_sim%d_snap%d_%d%d%d.out\"%(mytetsize,simno,snapno,xshift,yshift,zshift)\n",
    "                joberr =scriptdir+basename + \"_tet%d_sim%d_snap%d_%d%d%d.err\"%(mytetsize,simno,snapno,xshift,yshift,zshift)\n",
    "                module = \"\\nmodule load openmpi\\nmodule load gsl\\nmodule load openblas\\n\\n\"\n",
    "                jobcmd =module+ \"python3 \"+basename+\".py %d %d %d %d %d %d\"%(mytetsize,simno,snapno,xshift,yshift,zshift)\n",
    "                jobcmd = jobcmd + \" > \" + jobout\n",
    "                myscript=\"#!/bin/bash \\n#SBATCH --job-name=\" + jobname + \" \\n#SBATCH --time=\" + jobtime + \" \\n#SBATCH --ntasks=2 \\n#SBATCH --cpus-per-task=32 \\n#SBATCH --mem=\" + jobmem + \" \\n#SBATCH -p hns,kipac \\n#SBATCH --output=\" + jobout + \" \\n#SBATCH --error=\" + joberr + \" \\n\\n\" + jobcmd\n",
    "\n",
    "                with open(scriptname,\"w\") as text_file:\n",
    "                            text_file.write(myscript)"
   ]
  },
  {
   "cell_type": "code",
   "execution_count": 41,
   "metadata": {
    "collapsed": true
   },
   "outputs": [],
   "source": [
    "basename = 'xiCenSample'\n",
    "scriptdir = basename + 'Jobs/'\n",
    "mytetsize= 4\n",
    "simno = 0\n",
    "snapno  = 4\n",
    "xshift, yshift, zshift = 0,0,0\n",
    "\n",
    "for simno in range(500):\n",
    "    for snapno in range(5):\n",
    "        scriptname = scriptdir + basename + \"Job_tet%d_sim%d_snap%d_%d%d%d.sh\"%(mytetsize,simno,snapno,xshift,yshift,zshift)\n",
    "        jobname=basename + \"_tet%d_sim%d_snap%d_%d%d%d\"%(mytetsize,simno,snapno,xshift,yshift,zshift)\n",
    "        jobtime=\"%02d:00:00\"%hours\n",
    "        jobmem =\"%dG\"%GBs\n",
    "        jobout =scriptdir+basename + \"_tet%d_sim%d_snap%d_%d%d%d.out\"%(mytetsize,simno,snapno,xshift,yshift,zshift)\n",
    "        joberr =scriptdir+basename + \"_tet%d_sim%d_snap%d_%d%d%d.err\"%(mytetsize,simno,snapno,xshift,yshift,zshift)\n",
    "        module = \"\\nmodule load openmpi\\nmodule load gsl\\nmodule load openblas\\n\\n\"\n",
    "        jobcmd =module+ \"python3 \"+basename+\".py %d %d %d %d %d %d\"%(mytetsize,simno,snapno,xshift,yshift,zshift)\n",
    "        jobcmd = jobcmd + \" > \" + jobout\n",
    "        myscript=\"#!/bin/bash \\n#SBATCH --job-name=\" + jobname + \" \\n#SBATCH --time=\" + jobtime + \" \\n#SBATCH --ntasks=2 \\n#SBATCH --cpus-per-task=32 \\n#SBATCH --mem=\" + jobmem + \" \\n#SBATCH -p hns,kipac \\n#SBATCH --output=\" + jobout + \" \\n#SBATCH --error=\" + joberr + \" \\n\\n\" + jobcmd\n",
    "\n",
    "        with open(scriptname,\"w\") as text_file:\n",
    "                    text_file.write(myscript)"
   ]
  },
  {
   "cell_type": "code",
   "execution_count": 42,
   "metadata": {
    "collapsed": true
   },
   "outputs": [],
   "source": [
    "basename = 'xiCenSample'\n",
    "scriptdir = basename + 'Jobs/'\n",
    "mytetsize= 4\n",
    "simno = 0\n",
    "snapno  = 4\n",
    "xshift, yshift, zshift = 0,0,0\n",
    "\n",
    "# submit the jobs I want to compute later\n",
    "snap_range = [4]\n",
    "\n",
    "with open(\"submit\"+basename+\".sh\",\"w\") as text_file:\n",
    "    for simno in range(500):\n",
    "        for snapno in snap_range:\n",
    "            scriptname = scriptdir + basename + \"Job_tet%d_sim%d_snap%d_%d%d%d.sh\"%(mytetsize,simno,snapno,xshift,yshift,zshift)\n",
    "            text_file.write(\"sbatch \"+scriptname +\"\\n\")"
   ]
  },
  {
   "cell_type": "code",
   "execution_count": 34,
   "metadata": {
    "collapsed": true
   },
   "outputs": [],
   "source": [
    "basename = 'xiCenSample'\n",
    "scriptdir = basename + 'Jobs/'\n",
    "mytetsize= 4\n",
    "simno = 0\n",
    "snapno  = 4\n",
    "xshift, yshift, zshift = 0,0,0\n",
    "\n",
    "# submit the jobs I want to compute later\n",
    "x_range = range(4)\n",
    "y_range = range(4)\n",
    "z_range = range(4)\n",
    "snap_range = [4]\n",
    "\n",
    "with open(\"submit\"+basename+\".sh\",\"w\") as text_file:\n",
    "    for xshift in  x_range:\n",
    "        for yshift in  y_range:\n",
    "            for zshift in  z_range:\n",
    "                for snapno in snap_range:\n",
    "                    scriptname = scriptdir + basename + \"Job_tet%d_sim%d_snap%d_%d%d%d.sh\"%(mytetsize,simno,snapno,xshift,yshift,zshift)\n",
    "                    text_file.write(\"sbatch \"+scriptname +\"\\n\")"
   ]
  },
  {
   "cell_type": "markdown",
   "metadata": {},
   "source": [
    "# 2. Also for ZA pts: for tetsize=4, resample with tetrahedra centers"
   ]
  },
  {
   "cell_type": "code",
   "execution_count": 35,
   "metadata": {},
   "outputs": [
    {
     "name": "stdout",
     "output_type": "stream",
     "text": [
      "#!/bin/bash \n",
      "#SBATCH --job-name=xiCenSample_ZApts_tet4_sim0_snap4_000 \n",
      "#SBATCH --time=30:00:00 \n",
      "#SBATCH --ntasks=2 \n",
      "#SBATCH --cpus-per-task=32 \n",
      "#SBATCH --mem=250G \n",
      "#SBATCH -p hns,kipac \n",
      "#SBATCH --output=xiCenSample_ZAptsJobs/xiCenSample_ZApts_tet4_sim0_snap4_000.out \n",
      "#SBATCH --error=xiCenSample_ZAptsJobs/xiCenSample_ZApts_tet4_sim0_snap4_000.err \n",
      "\n",
      "\n",
      "module load openmpi\n",
      "module load gsl\n",
      "module load openblas\n",
      "\n",
      "python3 xiCenSample_ZApts.py 4 0 4 0 0 0 > xiCenSample_ZAptsJobs/xiCenSample_ZApts_tet4_sim0_snap4_000.out\n"
     ]
    }
   ],
   "source": [
    "basename = 'xiCenSample_ZApts'\n",
    "scriptdir = basename + 'Jobs/'\n",
    "\n",
    "# try an example script\n",
    "\n",
    "mytetsize= 4\n",
    "simno = 0\n",
    "snapno  = 4\n",
    "xshift, yshift, zshift = 0,0,0\n",
    "\n",
    "hours = 30\n",
    "GBs = 250\n",
    "\n",
    "jobname=basename + \"_tet%d_sim%d_snap%d_%d%d%d\"%(mytetsize,simno,snapno,xshift,yshift,zshift)\n",
    "jobtime=\"%02d:00:00\"%hours\n",
    "jobmem =\"%dG\"%GBs\n",
    "jobout =scriptdir+basename + \"_tet%d_sim%d_snap%d_%d%d%d.out\"%(mytetsize,simno,snapno,xshift,yshift,zshift)\n",
    "joberr =scriptdir+basename + \"_tet%d_sim%d_snap%d_%d%d%d.err\"%(mytetsize,simno,snapno,xshift,yshift,zshift)\n",
    "module = \"\\nmodule load openmpi\\nmodule load gsl\\nmodule load openblas\\n\\n\"\n",
    "jobcmd =module+ \"python3 \"+basename+\".py %d %d %d %d %d %d\"%(mytetsize,simno,snapno,xshift,yshift,zshift)\n",
    "jobcmd = jobcmd + \" > \" + jobout\n",
    "myscript=\"#!/bin/bash \\n#SBATCH --job-name=\" + jobname + \" \\n#SBATCH --time=\" + jobtime + \" \\n#SBATCH --ntasks=2 \\n#SBATCH --cpus-per-task=32 \\n#SBATCH --mem=\" + jobmem + \" \\n#SBATCH -p hns,kipac \\n#SBATCH --output=\" + jobout + \" \\n#SBATCH --error=\" + joberr + \" \\n\\n\" + jobcmd\n",
    "\n",
    "print(myscript)"
   ]
  },
  {
   "cell_type": "code",
   "execution_count": 37,
   "metadata": {
    "collapsed": true
   },
   "outputs": [],
   "source": [
    "basename = 'xiCenSample_ZApts'\n",
    "scriptdir = basename + 'Jobs/'\n",
    "mytetsize= 4\n",
    "simno = 0\n",
    "snapno  = 4\n",
    "xshift, yshift, zshift = 0,0,0\n",
    "\n",
    "# cover different tessellations\n",
    "for xshift in  range(mytetsize):\n",
    "    for yshift in  range(mytetsize):\n",
    "        for zshift in  range(mytetsize):\n",
    "            for snapno in range(5):\n",
    "                scriptname = scriptdir + basename + \"Job_tet%d_sim%d_snap%d_%d%d%d.sh\"%(mytetsize,simno,snapno,xshift,yshift,zshift)\n",
    "                jobname=basename + \"_tet%d_sim%d_snap%d_%d%d%d\"%(mytetsize,simno,snapno,xshift,yshift,zshift)\n",
    "                jobtime=\"%02d:00:00\"%hours\n",
    "                jobmem =\"%dG\"%GBs\n",
    "                jobout =scriptdir+basename + \"_tet%d_sim%d_snap%d_%d%d%d.out\"%(mytetsize,simno,snapno,xshift,yshift,zshift)\n",
    "                joberr =scriptdir+basename + \"_tet%d_sim%d_snap%d_%d%d%d.err\"%(mytetsize,simno,snapno,xshift,yshift,zshift)\n",
    "                module = \"\\nmodule load openmpi\\nmodule load gsl\\nmodule load openblas\\n\\n\"\n",
    "                jobcmd =module+ \"python3 \"+basename+\".py %d %d %d %d %d %d\"%(mytetsize,simno,snapno,xshift,yshift,zshift)\n",
    "                jobcmd = jobcmd + \" > \" + jobout\n",
    "                myscript=\"#!/bin/bash \\n#SBATCH --job-name=\" + jobname + \" \\n#SBATCH --time=\" + jobtime + \" \\n#SBATCH --ntasks=2 \\n#SBATCH --cpus-per-task=32 \\n#SBATCH --mem=\" + jobmem + \" \\n#SBATCH -p hns,kipac \\n#SBATCH --output=\" + jobout + \" \\n#SBATCH --error=\" + joberr + \" \\n\\n\" + jobcmd\n",
    "\n",
    "                with open(scriptname,\"w\") as text_file:\n",
    "                            text_file.write(myscript)"
   ]
  },
  {
   "cell_type": "code",
   "execution_count": 43,
   "metadata": {
    "collapsed": true
   },
   "outputs": [],
   "source": [
    "basename = 'xiCenSample_ZApts'\n",
    "scriptdir = basename + 'Jobs/'\n",
    "mytetsize= 4\n",
    "simno = 0\n",
    "snapno  = 4\n",
    "xshift, yshift, zshift = 0,0,0\n",
    "\n",
    "#cover different simulations\n",
    "for simno in range(500):\n",
    "    for snapno in range(5):\n",
    "        scriptname = scriptdir + basename + \"Job_tet%d_sim%d_snap%d_%d%d%d.sh\"%(mytetsize,simno,snapno,xshift,yshift,zshift)\n",
    "        jobname=basename + \"_tet%d_sim%d_snap%d_%d%d%d\"%(mytetsize,simno,snapno,xshift,yshift,zshift)\n",
    "        jobtime=\"%02d:00:00\"%hours\n",
    "        jobmem =\"%dG\"%GBs\n",
    "        jobout =scriptdir+basename + \"_tet%d_sim%d_snap%d_%d%d%d.out\"%(mytetsize,simno,snapno,xshift,yshift,zshift)\n",
    "        joberr =scriptdir+basename + \"_tet%d_sim%d_snap%d_%d%d%d.err\"%(mytetsize,simno,snapno,xshift,yshift,zshift)\n",
    "        module = \"\\nmodule load openmpi\\nmodule load gsl\\nmodule load openblas\\n\\n\"\n",
    "        jobcmd =module+ \"python3 \"+basename+\".py %d %d %d %d %d %d\"%(mytetsize,simno,snapno,xshift,yshift,zshift)\n",
    "        jobcmd = jobcmd + \" > \" + jobout\n",
    "        myscript=\"#!/bin/bash \\n#SBATCH --job-name=\" + jobname + \" \\n#SBATCH --time=\" + jobtime + \" \\n#SBATCH --ntasks=2 \\n#SBATCH --cpus-per-task=32 \\n#SBATCH --mem=\" + jobmem + \" \\n#SBATCH -p hns,kipac \\n#SBATCH --output=\" + jobout + \" \\n#SBATCH --error=\" + joberr + \" \\n\\n\" + jobcmd\n",
    "\n",
    "        with open(scriptname,\"w\") as text_file:\n",
    "                    text_file.write(myscript)"
   ]
  },
  {
   "cell_type": "code",
   "execution_count": 38,
   "metadata": {
    "collapsed": true
   },
   "outputs": [],
   "source": [
    "basename = 'xiCenSample_ZApts'\n",
    "scriptdir = basename + 'Jobs/'\n",
    "mytetsize= 4\n",
    "simno = 0\n",
    "snapno  = 4\n",
    "xshift, yshift, zshift = 0,0,0\n",
    "# submit the jobs I want to compute later\n",
    "x_range = range(4)\n",
    "y_range = range(4)\n",
    "z_range = range(4)\n",
    "snap_range = [4]\n",
    "\n",
    "with open(\"submit\"+basename+\".sh\",\"w\") as text_file:\n",
    "    for xshift in  x_range:\n",
    "        for yshift in  y_range:\n",
    "            for zshift in  z_range:\n",
    "                for snapno in snap_range:\n",
    "                    scriptname = scriptdir + basename + \"Job_tet%d_sim%d_snap%d_%d%d%d.sh\"%(mytetsize,simno,snapno,xshift,yshift,zshift)\n",
    "                    text_file.write(\"sbatch \"+scriptname +\"\\n\")"
   ]
  },
  {
   "cell_type": "code",
   "execution_count": 49,
   "metadata": {
    "collapsed": true
   },
   "outputs": [],
   "source": [
    "basename = 'xiCenSample_ZApts'\n",
    "scriptdir = basename + 'Jobs/'\n",
    "mytetsize= 4\n",
    "simno = 0\n",
    "snapno  = 4\n",
    "xshift, yshift, zshift = 0,0,0\n",
    "# submit the jobs I want to compute later\n",
    "snap_range = [4]\n",
    "\n",
    "with open(\"submit\"+basename+\".sh\",\"w\") as text_file:\n",
    "    for simno in range(201,500):\n",
    "        for snapno in snap_range:\n",
    "            scriptname = scriptdir + basename + \"Job_tet%d_sim%d_snap%d_%d%d%d.sh\"%(mytetsize,simno,snapno,xshift,yshift,zshift)\n",
    "            text_file.write(\"sbatch \"+scriptname +\"\\n\")"
   ]
  },
  {
   "cell_type": "code",
   "execution_count": null,
   "metadata": {
    "collapsed": true
   },
   "outputs": [],
   "source": [
    "!bash submitxiCenSample_ZApts.sh"
   ]
  },
  {
   "cell_type": "markdown",
   "metadata": {},
   "source": [
    "# 3. for tetsize=8, resample 5 pts in each tet, save xi"
   ]
  },
  {
   "cell_type": "code",
   "execution_count": 59,
   "metadata": {},
   "outputs": [
    {
     "name": "stdout",
     "output_type": "stream",
     "text": [
      "#!/bin/bash \n",
      "#SBATCH --job-name=xiResample_tet8_sim0_snap4_000_split5 \n",
      "#SBATCH --time=03:00:00 \n",
      "#SBATCH --ntasks=2 \n",
      "#SBATCH --cpus-per-task=32 \n",
      "#SBATCH --mem=250G \n",
      "#SBATCH -p hns,kipac \n",
      "#SBATCH --output=xiResampleJobs/xiResample_tet8_sim0_snap4_000_split5.out \n",
      "#SBATCH --error=xiResampleJobs/xiResample_tet8_sim0_snap4_000_split5.err \n",
      "\n",
      "\n",
      "module load openmpi\n",
      "module load gsl\n",
      "module load openblas\n",
      "\n",
      "python3 xiResample.py 8 0 4 0 0 0 5 > xiResampleJobs/xiResample_tet8_sim0_snap4_000_split5.out\n"
     ]
    }
   ],
   "source": [
    "basename = 'xiResample'\n",
    "scriptdir = basename + 'Jobs/'\n",
    "\n",
    "# try an example script\n",
    "\n",
    "mytetsize= 8\n",
    "simno = 0\n",
    "snapno  = 4\n",
    "xshift, yshift, zshift = 0,0,0\n",
    "mysplit = 5\n",
    "\n",
    "hours = 3\n",
    "GBs = 250\n",
    "\n",
    "jobname=basename + \"_tet%d_sim%d_snap%d_%d%d%d_split%d\"%(mytetsize,simno,snapno,xshift,yshift,zshift,mysplit)\n",
    "jobtime=\"%02d:00:00\"%hours\n",
    "jobmem =\"%dG\"%GBs\n",
    "jobout =scriptdir+basename + \"_tet%d_sim%d_snap%d_%d%d%d_split%d.out\"%(mytetsize,simno,snapno,xshift,yshift,zshift,mysplit)\n",
    "joberr =scriptdir+basename + \"_tet%d_sim%d_snap%d_%d%d%d_split%d.err\"%(mytetsize,simno,snapno,xshift,yshift,zshift,mysplit)\n",
    "module = \"\\nmodule load openmpi\\nmodule load gsl\\nmodule load openblas\\n\\n\"\n",
    "jobcmd =module+ \"python3 \"+basename+\".py %d %d %d %d %d %d %d\"%(mytetsize,simno,snapno,xshift,yshift,zshift,mysplit)\n",
    "jobcmd = jobcmd + \" > \" + jobout\n",
    "myscript=\"#!/bin/bash \\n#SBATCH --job-name=\" + jobname + \" \\n#SBATCH --time=\" + jobtime + \" \\n#SBATCH --ntasks=2 \\n#SBATCH --cpus-per-task=32 \\n#SBATCH --mem=\" + jobmem + \" \\n#SBATCH -p hns,kipac \\n#SBATCH --output=\" + jobout + \" \\n#SBATCH --error=\" + joberr + \" \\n\\n\" + jobcmd\n",
    "\n",
    "print(myscript)"
   ]
  },
  {
   "cell_type": "code",
   "execution_count": 39,
   "metadata": {},
   "outputs": [
    {
     "ename": "SyntaxError",
     "evalue": "invalid syntax (<ipython-input-39-b838e7e3ad57>, line 2)",
     "output_type": "error",
     "traceback": [
      "\u001b[0;36m  File \u001b[0;32m\"<ipython-input-39-b838e7e3ad57>\"\u001b[0;36m, line \u001b[0;32m2\u001b[0m\n\u001b[0;31m    scriptdir = basename + 'Jobs/'for xshift in  range(mytetsize):\u001b[0m\n\u001b[0m                                    ^\u001b[0m\n\u001b[0;31mSyntaxError\u001b[0m\u001b[0;31m:\u001b[0m invalid syntax\n"
     ]
    }
   ],
   "source": [
    "basename = 'xiResample'\n",
    "scriptdir = basename + 'Jobs/'\n",
    "mytetsize= 8\n",
    "simno = 0\n",
    "snapno  = 4\n",
    "xshift, yshift, zshift = 0,0,0\n",
    "mysplit = 5\n",
    "\n",
    "for xshift in  range(mytetsize):\n",
    "    for yshift in  range(mytetsize):\n",
    "        for zshift in  range(mytetsize):\n",
    "            for snapno in range(5):\n",
    "                scriptname = scriptdir + basename + \"Job_tet%d_sim%d_snap%d_%d%d%d_split%d.sh\"%(mytetsize,simno,snapno,xshift,yshift,zshift,mysplit)\n",
    "                jobname=basename + \"_tet%d_sim%d_snap%d_%d%d%d_split%d\"%(mytetsize,simno,snapno,xshift,yshift,zshift,mysplit)\n",
    "                jobtime=\"%02d:00:00\"%hours\n",
    "                jobmem =\"%dG\"%GBs\n",
    "                jobout =scriptdir+basename + \"_tet%d_sim%d_snap%d_%d%d%d_split%d.out\"%(mytetsize,simno,snapno,xshift,yshift,zshift,mysplit)\n",
    "                joberr =scriptdir+basename + \"_tet%d_sim%d_snap%d_%d%d%d_split%d.err\"%(mytetsize,simno,snapno,xshift,yshift,zshift,mysplit)\n",
    "                module = \"\\nmodule load openmpi\\nmodule load gsl\\nmodule load openblas\\n\\n\"\n",
    "                jobcmd =module+ \"python3 \"+basename+\".py %d %d %d %d %d %d %d\"%(mytetsize,simno,snapno,xshift,yshift,zshift,mysplit)\n",
    "                jobcmd = jobcmd + \" > \" + jobout\n",
    "                myscript=\"#!/bin/bash \\n#SBATCH --job-name=\" + jobname + \" \\n#SBATCH --time=\" + jobtime + \" \\n#SBATCH --ntasks=2 \\n#SBATCH --cpus-per-task=32 \\n#SBATCH --mem=\" + jobmem + \" \\n#SBATCH -p hns,kipac \\n#SBATCH --output=\" + jobout + \" \\n#SBATCH --error=\" + joberr + \" \\n\\n\" + jobcmd\n",
    "\n",
    "                with open(scriptname,\"w\") as text_file:\n",
    "                            text_file.write(myscript)"
   ]
  },
  {
   "cell_type": "code",
   "execution_count": 45,
   "metadata": {
    "collapsed": true
   },
   "outputs": [],
   "source": [
    "basename = 'xiResample'\n",
    "scriptdir = basename + 'Jobs/'\n",
    "mytetsize= 8\n",
    "simno = 0\n",
    "snapno  = 4\n",
    "xshift, yshift, zshift = 0,0,0\n",
    "mysplit = 5\n",
    "\n",
    "for simno in range(500):\n",
    "    for snapno in range(5):\n",
    "        scriptname = scriptdir + basename + \"Job_tet%d_sim%d_snap%d_%d%d%d_split%d.sh\"%(mytetsize,simno,snapno,xshift,yshift,zshift,mysplit)\n",
    "        jobname=basename + \"_tet%d_sim%d_snap%d_%d%d%d_split%d\"%(mytetsize,simno,snapno,xshift,yshift,zshift,mysplit)\n",
    "        jobtime=\"%02d:00:00\"%hours\n",
    "        jobmem =\"%dG\"%GBs\n",
    "        jobout =scriptdir+basename + \"_tet%d_sim%d_snap%d_%d%d%d_split%d.out\"%(mytetsize,simno,snapno,xshift,yshift,zshift,mysplit)\n",
    "        joberr =scriptdir+basename + \"_tet%d_sim%d_snap%d_%d%d%d_split%d.err\"%(mytetsize,simno,snapno,xshift,yshift,zshift,mysplit)\n",
    "        module = \"\\nmodule load openmpi\\nmodule load gsl\\nmodule load openblas\\n\\n\"\n",
    "        jobcmd =module+ \"python3 \"+basename+\".py %d %d %d %d %d %d %d\"%(mytetsize,simno,snapno,xshift,yshift,zshift,mysplit)\n",
    "        jobcmd = jobcmd + \" > \" + jobout\n",
    "        myscript=\"#!/bin/bash \\n#SBATCH --job-name=\" + jobname + \" \\n#SBATCH --time=\" + jobtime + \" \\n#SBATCH --ntasks=2 \\n#SBATCH --cpus-per-task=32 \\n#SBATCH --mem=\" + jobmem + \" \\n#SBATCH -p hns,kipac \\n#SBATCH --output=\" + jobout + \" \\n#SBATCH --error=\" + joberr + \" \\n\\n\" + jobcmd\n",
    "\n",
    "        with open(scriptname,\"w\") as text_file:\n",
    "            text_file.write(myscript)"
   ]
  },
  {
   "cell_type": "code",
   "execution_count": 22,
   "metadata": {
    "collapsed": true
   },
   "outputs": [],
   "source": [
    "basename = 'xiResample'\n",
    "scriptdir = basename + 'Jobs/'\n",
    "mytetsize= 8\n",
    "simno = 0\n",
    "snapno  = 4\n",
    "xshift, yshift, zshift = 0,0,0\n",
    "mysplit = 5\n",
    "\n",
    "# submit the jobs I want to compute later\n",
    "x_range = [0,2,4,6]\n",
    "y_range = [0,2,4,6]\n",
    "z_range = [0,2,4,6]\n",
    "snap_range = [4]\n",
    "\n",
    "with open(\"submit\"+basename+\".sh\",\"w\") as text_file:\n",
    "    for xshift in  x_range:\n",
    "        for yshift in  y_range:\n",
    "            for zshift in  z_range:\n",
    "                for snapno in snap_range:\n",
    "                    scriptname = scriptdir + basename + \"Job_tet%d_sim%d_snap%d_%d%d%d_split%d.sh\"%(mytetsize,simno,snapno,xshift,yshift,zshift,mysplit)\n",
    "                    text_file.write(\"sbatch \"+scriptname +\"\\n\")"
   ]
  },
  {
   "cell_type": "code",
   "execution_count": 60,
   "metadata": {
    "collapsed": true
   },
   "outputs": [],
   "source": [
    "basename = 'xiResample'\n",
    "scriptdir = basename + 'Jobs/'\n",
    "mytetsize= 8\n",
    "simno = 0\n",
    "snapno  = 4\n",
    "xshift, yshift, zshift = 0,0,0\n",
    "mysplit = 5\n",
    "\n",
    "# submit the jobs I want to compute later\n",
    "snap_range = [4]\n",
    "\n",
    "with open(\"submit\"+basename+\".sh\",\"w\") as text_file:\n",
    "    for simno in range(101,500):\n",
    "        for snapno in snap_range:\n",
    "            scriptname = scriptdir + basename + \"Job_tet%d_sim%d_snap%d_%d%d%d_split%d.sh\"%(mytetsize,simno,snapno,xshift,yshift,zshift,mysplit)\n",
    "            text_file.write(\"sbatch \"+scriptname +\"\\n\")"
   ]
  },
  {
   "cell_type": "markdown",
   "metadata": {},
   "source": [
    "# 3. Do this also for ZA pts: tetsize=8, resample 5 pts in each tet, save xi"
   ]
  },
  {
   "cell_type": "code",
   "execution_count": 23,
   "metadata": {},
   "outputs": [
    {
     "name": "stdout",
     "output_type": "stream",
     "text": [
      "#!/bin/bash \n",
      "#SBATCH --job-name=xiResample_ZApts_tet8_sim0_snap4_000_split5 \n",
      "#SBATCH --time=30:00:00 \n",
      "#SBATCH --ntasks=2 \n",
      "#SBATCH --cpus-per-task=32 \n",
      "#SBATCH --mem=250G \n",
      "#SBATCH -p hns,kipac \n",
      "#SBATCH --output=xiResample_ZAptsJobs/xiResample_ZApts_tet8_sim0_snap4_000_split5.out \n",
      "#SBATCH --error=xiResample_ZAptsJobs/xiResample_ZApts_tet8_sim0_snap4_000_split5.err \n",
      "\n",
      "\n",
      "module load openmpi\n",
      "module load gsl\n",
      "module load openblas\n",
      "\n",
      "python3 xiResample_ZApts.py 8 0 4 0 0 0 5 > xiResample_ZAptsJobs/xiResample_ZApts_tet8_sim0_snap4_000_split5.out\n"
     ]
    }
   ],
   "source": [
    "basename = 'xiResample_ZApts'\n",
    "scriptdir = basename + 'Jobs/'\n",
    "\n",
    "# try an example script\n",
    "\n",
    "mytetsize= 8\n",
    "simno = 0\n",
    "snapno  = 4\n",
    "xshift, yshift, zshift = 0,0,0\n",
    "mysplit = 5\n",
    "\n",
    "hours = 30\n",
    "GBs = 250\n",
    "\n",
    "jobname=basename + \"_tet%d_sim%d_snap%d_%d%d%d_split%d\"%(mytetsize,simno,snapno,xshift,yshift,zshift,mysplit)\n",
    "jobtime=\"%02d:00:00\"%hours\n",
    "jobmem =\"%dG\"%GBs\n",
    "jobout =scriptdir+basename + \"_tet%d_sim%d_snap%d_%d%d%d_split%d.out\"%(mytetsize,simno,snapno,xshift,yshift,zshift,mysplit)\n",
    "joberr =scriptdir+basename + \"_tet%d_sim%d_snap%d_%d%d%d_split%d.err\"%(mytetsize,simno,snapno,xshift,yshift,zshift,mysplit)\n",
    "module = \"\\nmodule load openmpi\\nmodule load gsl\\nmodule load openblas\\n\\n\"\n",
    "jobcmd =module+ \"python3 \"+basename+\".py %d %d %d %d %d %d %d\"%(mytetsize,simno,snapno,xshift,yshift,zshift,mysplit)\n",
    "jobcmd = jobcmd + \" > \" + jobout\n",
    "myscript=\"#!/bin/bash \\n#SBATCH --job-name=\" + jobname + \" \\n#SBATCH --time=\" + jobtime + \" \\n#SBATCH --ntasks=2 \\n#SBATCH --cpus-per-task=32 \\n#SBATCH --mem=\" + jobmem + \" \\n#SBATCH -p hns,kipac \\n#SBATCH --output=\" + jobout + \" \\n#SBATCH --error=\" + joberr + \" \\n\\n\" + jobcmd\n",
    "\n",
    "print(myscript)"
   ]
  },
  {
   "cell_type": "code",
   "execution_count": 25,
   "metadata": {
    "collapsed": true
   },
   "outputs": [],
   "source": [
    "basename = 'xiResample_ZApts'\n",
    "scriptdir = basename + 'Jobs/'\n",
    "mytetsize= 8\n",
    "simno = 0\n",
    "snapno  = 4\n",
    "xshift, yshift, zshift = 0,0,0\n",
    "mysplit = 5\n",
    "\n",
    "for xshift in  range(mytetsize):\n",
    "    for yshift in  range(mytetsize):\n",
    "        for zshift in  range(mytetsize):\n",
    "            for snapno in range(5):\n",
    "                scriptname = scriptdir + basename + \"Job_tet%d_sim%d_snap%d_%d%d%d_split%d.sh\"%(mytetsize,simno,snapno,xshift,yshift,zshift,mysplit)\n",
    "                jobname=basename + \"_tet%d_sim%d_snap%d_%d%d%d_split%d\"%(mytetsize,simno,snapno,xshift,yshift,zshift,mysplit)\n",
    "                jobtime=\"%02d:00:00\"%hours\n",
    "                jobmem =\"%dG\"%GBs\n",
    "                jobout =scriptdir+basename + \"_tet%d_sim%d_snap%d_%d%d%d_split%d.out\"%(mytetsize,simno,snapno,xshift,yshift,zshift,mysplit)\n",
    "                joberr =scriptdir+basename + \"_tet%d_sim%d_snap%d_%d%d%d_split%d.err\"%(mytetsize,simno,snapno,xshift,yshift,zshift,mysplit)\n",
    "                module = \"\\nmodule load openmpi\\nmodule load gsl\\nmodule load openblas\\n\\n\"\n",
    "                jobcmd =module+ \"python3 \"+basename+\".py %d %d %d %d %d %d %d\"%(mytetsize,simno,snapno,xshift,yshift,zshift,mysplit)\n",
    "                jobcmd = jobcmd + \" > \" + jobout\n",
    "                myscript=\"#!/bin/bash \\n#SBATCH --job-name=\" + jobname + \" \\n#SBATCH --time=\" + jobtime + \" \\n#SBATCH --ntasks=2 \\n#SBATCH --cpus-per-task=32 \\n#SBATCH --mem=\" + jobmem + \" \\n#SBATCH -p hns,kipac \\n#SBATCH --output=\" + jobout + \" \\n#SBATCH --error=\" + joberr + \" \\n\\n\" + jobcmd\n",
    "\n",
    "                with open(scriptname,\"w\") as text_file:\n",
    "                            text_file.write(myscript)"
   ]
  },
  {
   "cell_type": "code",
   "execution_count": 61,
   "metadata": {
    "collapsed": true
   },
   "outputs": [],
   "source": [
    "basename = 'xiResample_ZApts'\n",
    "scriptdir = basename + 'Jobs/'\n",
    "mytetsize= 8\n",
    "simno = 0\n",
    "snapno  = 4\n",
    "xshift, yshift, zshift = 0,0,0\n",
    "mysplit = 5\n",
    "\n",
    "for simno in range(500):\n",
    "    for snapno in range(5):\n",
    "        scriptname = scriptdir + basename + \"Job_tet%d_sim%d_snap%d_%d%d%d_split%d.sh\"%(mytetsize,simno,snapno,xshift,yshift,zshift,mysplit)\n",
    "        jobname=basename + \"_tet%d_sim%d_snap%d_%d%d%d_split%d\"%(mytetsize,simno,snapno,xshift,yshift,zshift,mysplit)\n",
    "        jobtime=\"%02d:00:00\"%hours\n",
    "        jobmem =\"%dG\"%GBs\n",
    "        jobout =scriptdir+basename + \"_tet%d_sim%d_snap%d_%d%d%d_split%d.out\"%(mytetsize,simno,snapno,xshift,yshift,zshift,mysplit)\n",
    "        joberr =scriptdir+basename + \"_tet%d_sim%d_snap%d_%d%d%d_split%d.err\"%(mytetsize,simno,snapno,xshift,yshift,zshift,mysplit)\n",
    "        module = \"\\nmodule load openmpi\\nmodule load gsl\\nmodule load openblas\\n\\n\"\n",
    "        jobcmd =module+ \"python3 \"+basename+\".py %d %d %d %d %d %d %d\"%(mytetsize,simno,snapno,xshift,yshift,zshift,mysplit)\n",
    "        jobcmd = jobcmd + \" > \" + jobout\n",
    "        myscript=\"#!/bin/bash \\n#SBATCH --job-name=\" + jobname + \" \\n#SBATCH --time=\" + jobtime + \" \\n#SBATCH --ntasks=2 \\n#SBATCH --cpus-per-task=32 \\n#SBATCH --mem=\" + jobmem + \" \\n#SBATCH -p hns,kipac \\n#SBATCH --output=\" + jobout + \" \\n#SBATCH --error=\" + joberr + \" \\n\\n\" + jobcmd\n",
    "\n",
    "        with open(scriptname,\"w\") as text_file:\n",
    "                    text_file.write(myscript)"
   ]
  },
  {
   "cell_type": "code",
   "execution_count": 26,
   "metadata": {
    "collapsed": true
   },
   "outputs": [],
   "source": [
    "basename = 'xiResample_ZApts'\n",
    "scriptdir = basename + 'Jobs/'\n",
    "mytetsize= 8\n",
    "simno = 0\n",
    "snapno  = 4\n",
    "xshift, yshift, zshift = 0,0,0\n",
    "mysplit = 5\n",
    "\n",
    "# submit the jobs I want to compute later\n",
    "x_range = [0,2,4,6]\n",
    "y_range = [0,2,4,6]\n",
    "z_range = [0,2,4,6]\n",
    "snap_range = [4]\n",
    "\n",
    "with open(\"submit\"+basename+\".sh\",\"w\") as text_file:\n",
    "    for xshift in  x_range:\n",
    "        for yshift in  y_range:\n",
    "            for zshift in  z_range:\n",
    "                for snapno in snap_range:\n",
    "                    scriptname = scriptdir + basename + \"Job_tet%d_sim%d_snap%d_%d%d%d_split%d.sh\"%(mytetsize,simno,snapno,xshift,yshift,zshift,mysplit)\n",
    "                    text_file.write(\"sbatch \"+scriptname +\"\\n\")"
   ]
  },
  {
   "cell_type": "code",
   "execution_count": 62,
   "metadata": {
    "collapsed": true
   },
   "outputs": [],
   "source": [
    "basename = 'xiResample_ZApts'\n",
    "scriptdir = basename + 'Jobs/'\n",
    "mytetsize= 8\n",
    "simno = 0\n",
    "snapno  = 4\n",
    "xshift, yshift, zshift = 0,0,0\n",
    "mysplit = 5\n",
    "\n",
    "# submit the jobs I want to compute later\n",
    "snap_range = [4]\n",
    "\n",
    "with open(\"submit\"+basename+\".sh\",\"w\") as text_file:\n",
    "    for simno in range(101,500):\n",
    "        for snapno in snap_range:\n",
    "            scriptname = scriptdir + basename + \"Job_tet%d_sim%d_snap%d_%d%d%d_split%d.sh\"%(mytetsize,simno,snapno,xshift,yshift,zshift,mysplit)\n",
    "            text_file.write(\"sbatch \"+scriptname +\"\\n\")"
   ]
  },
  {
   "cell_type": "code",
   "execution_count": null,
   "metadata": {
    "collapsed": true
   },
   "outputs": [],
   "source": []
  }
 ],
 "metadata": {
  "kernelspec": {
   "display_name": "Python 3",
   "language": "python",
   "name": "python3"
  },
  "language_info": {
   "codemirror_mode": {
    "name": "ipython",
    "version": 3
   },
   "file_extension": ".py",
   "mimetype": "text/x-python",
   "name": "python",
   "nbconvert_exporter": "python",
   "pygments_lexer": "ipython3",
   "version": "3.6.1"
  }
 },
 "nbformat": 4,
 "nbformat_minor": 2
}
